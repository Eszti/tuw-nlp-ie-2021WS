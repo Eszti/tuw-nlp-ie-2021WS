{
 "cells": [
  {
   "cell_type": "markdown",
   "metadata": {},
   "source": [
    "# Basics of text processing\n",
    "\n",
    "### Natural Language Processing and Information Extraction,  2021 WS\n",
    "10/15/2021\n",
    "\n",
    "Gábor Recski"
   ]
  },
  {
   "cell_type": "markdown",
   "metadata": {},
   "source": [
    "## In this lecture\n",
    "- Regular Expressions\n",
    "\n",
    "- Text segmentation and normalization:\n",
    "   - sentence splitting and tokenization\n",
    "   - lemmatization, stemming, decompounding, morphology"
   ]
  },
  {
   "cell_type": "markdown",
   "metadata": {},
   "source": [
    "## Import dependencies"
   ]
  },
  {
   "cell_type": "code",
   "execution_count": 1,
   "metadata": {},
   "outputs": [
    {
     "name": "stderr",
     "output_type": "stream",
     "text": [
      "[nltk_data] Downloading package punkt to /home/eszter/nltk_data...\n",
      "[nltk_data]   Package punkt is already up-to-date!\n",
      "[nltk_data] Downloading package stopwords to /home/eszter/nltk_data...\n",
      "[nltk_data]   Package stopwords is already up-to-date!\n"
     ]
    },
    {
     "data": {
      "application/vnd.jupyter.widget-view+json": {
       "model_id": "657010560fcb4a93b1901f9bffdfcd60",
       "version_major": 2,
       "version_minor": 0
      },
      "text/plain": [
       "Downloading https://raw.githubusercontent.com/stanfordnlp/stanza-resources/main/resources_1.3.0.json:   0%|   …"
      ]
     },
     "metadata": {},
     "output_type": "display_data"
    },
    {
     "name": "stderr",
     "output_type": "stream",
     "text": [
      "2021-10-18 14:22:35 INFO: Downloading default packages for language: en (English)...\n"
     ]
    },
    {
     "data": {
      "application/vnd.jupyter.widget-view+json": {
       "model_id": "9bb923b7c9b24cf8b981aba85d7dfacc",
       "version_major": 2,
       "version_minor": 0
      },
      "text/plain": [
       "Downloading https://huggingface.co/stanfordnlp/stanza-en/resolve/v1.3.0/models/default.zip:   0%|          | 0…"
      ]
     },
     "metadata": {},
     "output_type": "display_data"
    },
    {
     "name": "stderr",
     "output_type": "stream",
     "text": [
      "2021-10-18 14:25:06 INFO: Finished downloading models and saved to /home/eszter/stanza_resources.\n"
     ]
    },
    {
     "data": {
      "application/vnd.jupyter.widget-view+json": {
       "model_id": "dd0cf77ca55a44ce847160946b685e9e",
       "version_major": 2,
       "version_minor": 0
      },
      "text/plain": [
       "Downloading https://raw.githubusercontent.com/stanfordnlp/stanza-resources/main/resources_1.3.0.json:   0%|   …"
      ]
     },
     "metadata": {},
     "output_type": "display_data"
    },
    {
     "name": "stderr",
     "output_type": "stream",
     "text": [
      "2021-10-18 14:25:07 INFO: Downloading default packages for language: de (German)...\n"
     ]
    },
    {
     "data": {
      "application/vnd.jupyter.widget-view+json": {
       "model_id": "26f64d30c9d04c3fac62ee4c4f40baa1",
       "version_major": 2,
       "version_minor": 0
      },
      "text/plain": [
       "Downloading https://huggingface.co/stanfordnlp/stanza-de/resolve/v1.3.0/models/default.zip:   0%|          | 0…"
      ]
     },
     "metadata": {},
     "output_type": "display_data"
    },
    {
     "name": "stderr",
     "output_type": "stream",
     "text": [
      "2021-10-18 14:28:01 INFO: Finished downloading models and saved to /home/eszter/stanza_resources.\n"
     ]
    }
   ],
   "source": [
    "import re\n",
    "from collections import Counter\n",
    "\n",
    "import nltk\n",
    "nltk.download('punkt')\n",
    "nltk.download('stopwords')\n",
    "from nltk.tokenize import word_tokenize, sent_tokenize\n",
    "import stanza\n",
    "stanza.download('en')\n",
    "stanza.download('de')"
   ]
  },
  {
   "cell_type": "markdown",
   "metadata": {},
   "source": [
    "## Regular expressions"
   ]
  },
  {
   "cell_type": "markdown",
   "metadata": {},
   "source": [
    "### Basics"
   ]
  },
  {
   "cell_type": "markdown",
   "metadata": {},
   "source": [
    "![re1](media/re1.png)([SLP Ch.2](https://web.stanford.edu/~jurafsky/slp3/2.pdf))"
   ]
  },
  {
   "cell_type": "code",
   "execution_count": 2,
   "metadata": {},
   "outputs": [
    {
     "name": "stdout",
     "output_type": "stream",
     "text": [
      "\n",
      "CHAPTER I.\n",
      "Down the Rabbit-Hole\n",
      "\n",
      "\n",
      "Alice was beginning to get very tired of sitting by her sister on\n"
     ]
    }
   ],
   "source": [
    "text = open('data/alice.txt').read()\n",
    "print(text[:100])"
   ]
  },
  {
   "cell_type": "code",
   "execution_count": 12,
   "metadata": {},
   "outputs": [
    {
     "data": {
      "text/plain": [
       "<re.Match object; span=(35, 40), match='Alice'>"
      ]
     },
     "execution_count": 12,
     "metadata": {},
     "output_type": "execute_result"
    }
   ],
   "source": [
    "re.search('Alice', text)"
   ]
  },
  {
   "cell_type": "code",
   "execution_count": 13,
   "metadata": {},
   "outputs": [
    {
     "data": {
      "text/plain": [
       "'Alice'"
      ]
     },
     "execution_count": 13,
     "metadata": {},
     "output_type": "execute_result"
    }
   ],
   "source": [
    "text[35:40]"
   ]
  },
  {
   "cell_type": "markdown",
   "metadata": {},
   "source": [
    "![re2](media/re2.png)([SLP Ch.2](https://web.stanford.edu/~jurafsky/slp3/2.pdf))"
   ]
  },
  {
   "cell_type": "code",
   "execution_count": 14,
   "metadata": {},
   "outputs": [
    {
     "data": {
      "text/plain": [
       "<re.Match object; span=(21, 27), match='Rabbit'>"
      ]
     },
     "execution_count": 14,
     "metadata": {},
     "output_type": "execute_result"
    }
   ],
   "source": [
    "re.search('[Rr]abbit', text)"
   ]
  },
  {
   "cell_type": "code",
   "execution_count": 15,
   "metadata": {},
   "outputs": [
    {
     "data": {
      "text/plain": [
       "['Rabbit', 'Rabbit', 'Rabbit', 'Rabbit', 'rabbit', 'rabbit', 'rabbit']"
      ]
     },
     "execution_count": 15,
     "metadata": {},
     "output_type": "execute_result"
    }
   ],
   "source": [
    "re.findall('[Rr]abbit', text[:5000])"
   ]
  },
  {
   "cell_type": "code",
   "execution_count": 16,
   "metadata": {},
   "outputs": [
    {
     "name": "stdout",
     "output_type": "stream",
     "text": [
      "Rabbit (21, 27)\n",
      "Rabbit (589, 595)\n",
      "Rabbit (743, 749)\n",
      "Rabbit (959, 965)\n",
      "rabbit (1149, 1155)\n",
      "rabbit (1341, 1347)\n",
      "rabbit (1486, 1492)\n"
     ]
    }
   ],
   "source": [
    "for match in re.finditer('[Rr]abbit', text[:5000]):\n",
    "    print(match.group(), match.span())"
   ]
  },
  {
   "cell_type": "markdown",
   "metadata": {},
   "source": [
    "![re3](media/re3.png)([SLP Ch.2](https://web.stanford.edu/~jurafsky/slp3/2.pdf))"
   ]
  },
  {
   "cell_type": "code",
   "execution_count": 17,
   "metadata": {},
   "outputs": [
    {
     "data": {
      "text/plain": [
       "[' the ',\n",
       " ' was ',\n",
       " ' get ',\n",
       " ' her ',\n",
       " ' and ',\n",
       " ' she ',\n",
       " ' her ',\n",
       " ' was ',\n",
       " ' but ',\n",
       " ' had ',\n",
       " ' the ',\n",
       " ' she ',\n",
       " ' her ',\n",
       " ' she ',\n",
       " ' for ',\n",
       " ' day ',\n",
       " ' her ',\n",
       " ' and ',\n",
       " ' the ',\n",
       " ' the ',\n",
       " ' the ',\n",
       " ' was ',\n",
       " ' nor ',\n",
       " ' out ',\n",
       " ' the ',\n",
       " ' the ',\n",
       " ' say ',\n",
       " ' she ',\n",
       " ' her ',\n",
       " ' she ',\n",
       " ' but ',\n",
       " ' all ',\n",
       " ' but ',\n",
       " ' the ',\n",
       " ' out ',\n",
       " ' its ',\n",
       " ' and ',\n",
       " ' and ',\n",
       " ' her ',\n",
       " ' for ',\n",
       " ' her ',\n",
       " ' out ',\n",
       " ' and ',\n",
       " ' she ',\n",
       " ' and ',\n",
       " ' was ',\n",
       " ' see ',\n",
       " ' pop ',\n",
       " ' the ',\n",
       " ' the ',\n",
       " ' she ',\n",
       " ' get ',\n",
       " ' for ',\n",
       " ' and ',\n",
       " ' had ',\n",
       " ' she ',\n",
       " ' the ',\n",
       " ' was ',\n",
       " ' she ',\n",
       " ' for ',\n",
       " ' she ',\n",
       " ' her ',\n",
       " ' she ',\n",
       " ' and ',\n",
       " ' she ',\n",
       " ' but ',\n",
       " ' was ',\n",
       " ' see ',\n",
       " ' the ',\n",
       " ' the ',\n",
       " ' and ',\n",
       " ' and ',\n",
       " ' and ',\n",
       " ' she ',\n",
       " ' and ',\n",
       " ' She ',\n",
       " ' jar ',\n",
       " ' one ',\n",
       " ' the ',\n",
       " ' was ',\n",
       " ' but ',\n",
       " ' her ',\n",
       " ' was ',\n",
       " ' she ',\n",
       " ' not ',\n",
       " ' the ',\n",
       " ' for ',\n",
       " ' put ',\n",
       " ' one ',\n",
       " ' she ',\n",
       " ' How ',\n",
       " ' all ',\n",
       " ' say ',\n",
       " ' off ',\n",
       " ' the ',\n",
       " ' was ',\n",
       " ' the ',\n",
       " ' she ',\n",
       " ' the ',\n",
       " ' the ',\n",
       " ' Let ',\n",
       " ' you ',\n",
       " ' had ',\n",
       " ' her ',\n",
       " ' the ',\n",
       " ' was ',\n",
       " ' for ',\n",
       " ' off ',\n",
       " ' was ',\n",
       " ' one ',\n",
       " ' was ',\n",
       " ' say ',\n",
       " ' the ',\n",
       " ' got ',\n",
       " ' had ',\n",
       " ' but ',\n",
       " ' she ',\n",
       " ' How ',\n",
       " ' out ',\n",
       " ' the ',\n",
       " ' The ',\n",
       " ' was ',\n",
       " ' one ',\n",
       " ' ask ',\n",
       " ' the ',\n",
       " ' you ',\n",
       " ' New ',\n",
       " ' she ',\n",
       " ' she ',\n",
       " ' the ',\n",
       " ' you ',\n",
       " ' you ',\n",
       " ' for ',\n",
       " ' see ',\n",
       " ' was ',\n",
       " ' was ',\n",
       " ' her ',\n",
       " ' you ',\n",
       " ' the ',\n",
       " ' but ',\n",
       " ' and ',\n",
       " ' you ',\n",
       " ' But ',\n",
       " ' eat ',\n",
       " ' And ',\n",
       " ' get ',\n",
       " ' and ',\n",
       " ' eat ',\n",
       " ' eat ',\n",
       " ' eat ',\n",
       " ' you ',\n",
       " ' she ',\n",
       " ' way ',\n",
       " ' put ',\n",
       " ' She ',\n",
       " ' she ',\n",
       " ' and ',\n",
       " ' she ',\n",
       " ' and ',\n",
       " ' her ',\n",
       " ' the ',\n",
       " ' did ',\n",
       " ' eat ',\n",
       " ' she ']"
      ]
     },
     "execution_count": 17,
     "metadata": {},
     "output_type": "execute_result"
    }
   ],
   "source": [
    "re.findall(' [A-Za-z][a-z][a-z] ', text[:5000])"
   ]
  },
  {
   "cell_type": "code",
   "execution_count": 18,
   "metadata": {},
   "outputs": [
    {
     "data": {
      "text/plain": [
       "[(' the ', 1191),\n",
       " (' and ', 611),\n",
       " (' she ', 348),\n",
       " (' was ', 233),\n",
       " (' you ', 206),\n",
       " (' her ', 154),\n",
       " (' all ', 110),\n",
       " (' had ', 105),\n",
       " (' for ', 105),\n",
       " (' but ', 90)]"
      ]
     },
     "execution_count": 18,
     "metadata": {},
     "output_type": "execute_result"
    }
   ],
   "source": [
    "Counter(re.findall(' [A-Za-z][a-z][a-z] ', text)).most_common(10)"
   ]
  },
  {
   "cell_type": "markdown",
   "metadata": {},
   "source": [
    "![re4](media/re4.png)([SLP Ch.2](https://web.stanford.edu/~jurafsky/slp3/2.pdf))"
   ]
  },
  {
   "cell_type": "markdown",
   "metadata": {},
   "source": [
    "![re5](media/re5.png)([SLP Ch.2](https://web.stanford.edu/~jurafsky/slp3/2.pdf))"
   ]
  },
  {
   "cell_type": "markdown",
   "metadata": {},
   "source": [
    "![re6](media/re6.png)([SLP Ch.2](https://web.stanford.edu/~jurafsky/slp3/2.pdf))"
   ]
  },
  {
   "cell_type": "code",
   "execution_count": 19,
   "metadata": {},
   "outputs": [
    {
     "data": {
      "text/plain": [
       "['CHA',\n",
       " 'PTE',\n",
       " 'R I',\n",
       " 'Dow',\n",
       " 'n t',\n",
       " 'he ',\n",
       " 'Rab',\n",
       " 'bit',\n",
       " '-Ho',\n",
       " 'Ali',\n",
       " 'ce ',\n",
       " 'was',\n",
       " ' be',\n",
       " 'gin',\n",
       " 'nin',\n",
       " 'g t',\n",
       " 'o g',\n",
       " 'et ',\n",
       " 'ver',\n",
       " 'y t',\n",
       " 'ire',\n",
       " 'd o',\n",
       " 'f s',\n",
       " 'itt',\n",
       " 'ing',\n",
       " ' by',\n",
       " ' he',\n",
       " 'r s',\n",
       " 'ist',\n",
       " 'er ']"
      ]
     },
     "execution_count": 19,
     "metadata": {},
     "output_type": "execute_result"
    }
   ],
   "source": [
    "re.findall('...', text[:100])"
   ]
  },
  {
   "cell_type": "markdown",
   "metadata": {},
   "source": [
    "![re7](media/re7.png)([SLP Ch.2](https://web.stanford.edu/~jurafsky/slp3/2.pdf))"
   ]
  },
  {
   "cell_type": "code",
   "execution_count": 21,
   "metadata": {},
   "outputs": [
    {
     "data": {
      "text/plain": [
       "['C', 'H', 'A', 'P', 'T', 'E', 'R', 'I']"
      ]
     },
     "execution_count": 21,
     "metadata": {},
     "output_type": "execute_result"
    }
   ],
   "source": [
    "re.findall('\\w', text[:10])"
   ]
  },
  {
   "cell_type": "code",
   "execution_count": 22,
   "metadata": {},
   "outputs": [
    {
     "data": {
      "text/plain": [
       "['',\n",
       " 'CHAPTER',\n",
       " 'I.',\n",
       " 'Down',\n",
       " 'the',\n",
       " 'Rabbit-Hole',\n",
       " '',\n",
       " '',\n",
       " 'Alice',\n",
       " 'was',\n",
       " 'beginning',\n",
       " 'to',\n",
       " 'get',\n",
       " 'very',\n",
       " 'tired',\n",
       " 'of',\n",
       " 'sitting',\n",
       " 'by',\n",
       " 'her',\n",
       " 'sister',\n",
       " 'on']"
      ]
     },
     "execution_count": 22,
     "metadata": {},
     "output_type": "execute_result"
    }
   ],
   "source": [
    "re.split('\\s', text[:100])"
   ]
  },
  {
   "cell_type": "markdown",
   "metadata": {},
   "source": [
    "![re8](media/re8.png)([SLP Ch.2](https://web.stanford.edu/~jurafsky/slp3/2.pdf))"
   ]
  },
  {
   "cell_type": "code",
   "execution_count": 23,
   "metadata": {},
   "outputs": [
    {
     "data": {
      "text/plain": [
       "['CHAPTER',\n",
       " 'I',\n",
       " 'Down',\n",
       " 'the',\n",
       " 'Rabbit',\n",
       " 'Hole',\n",
       " 'Alice',\n",
       " 'was',\n",
       " 'beginning',\n",
       " 'to',\n",
       " 'get',\n",
       " 'very',\n",
       " 'tired',\n",
       " 'of',\n",
       " 'sitting',\n",
       " 'by',\n",
       " 'her',\n",
       " 'sister',\n",
       " 'on']"
      ]
     },
     "execution_count": 23,
     "metadata": {},
     "output_type": "execute_result"
    }
   ],
   "source": [
    "re.findall('\\w+', text[:100])"
   ]
  },
  {
   "cell_type": "code",
   "execution_count": 24,
   "metadata": {},
   "outputs": [
    {
     "data": {
      "text/plain": [
       "[('the', 1533),\n",
       " ('and', 803),\n",
       " ('to', 728),\n",
       " ('a', 617),\n",
       " ('it', 528),\n",
       " ('I', 523),\n",
       " ('she', 510),\n",
       " ('of', 502),\n",
       " ('said', 456),\n",
       " ('Alice', 396),\n",
       " ('in', 356),\n",
       " ('was', 351),\n",
       " ('you', 345),\n",
       " ('that', 274),\n",
       " ('as', 246),\n",
       " ('her', 244),\n",
       " ('t', 216),\n",
       " ('at', 202),\n",
       " ('s', 196),\n",
       " ('on', 189)]"
      ]
     },
     "execution_count": 24,
     "metadata": {},
     "output_type": "execute_result"
    }
   ],
   "source": [
    "Counter(re.findall('\\w+', text)).most_common(20)"
   ]
  },
  {
   "cell_type": "code",
   "execution_count": 25,
   "metadata": {},
   "outputs": [
    {
     "data": {
      "text/plain": [
       "[(',', 2426),\n",
       " ('“', 1118),\n",
       " ('”', 1114),\n",
       " ('.', 987),\n",
       " ('’', 702),\n",
       " ('!', 451),\n",
       " ('—', 263),\n",
       " (':', 233),\n",
       " ('?', 203),\n",
       " (';', 193),\n",
       " ('-', 142),\n",
       " ('*', 60),\n",
       " ('(', 56),\n",
       " (')', 56),\n",
       " ('‘', 46),\n",
       " ('[', 2),\n",
       " (']', 2)]"
      ]
     },
     "execution_count": 25,
     "metadata": {},
     "output_type": "execute_result"
    }
   ],
   "source": [
    "Counter(re.findall('[^\\w\\s]', text)).most_common(20)"
   ]
  },
  {
   "cell_type": "markdown",
   "metadata": {},
   "source": [
    "### Substitution and groups"
   ]
  },
  {
   "cell_type": "code",
   "execution_count": 26,
   "metadata": {},
   "outputs": [
    {
     "data": {
      "text/plain": [
       "' CHAPTER I. Down the Rabbit-Hole Alice was beginning to get very tired of sitting by her sister on'"
      ]
     },
     "execution_count": 26,
     "metadata": {},
     "output_type": "execute_result"
    }
   ],
   "source": [
    "re.sub('\\s+', ' ', text[:100])"
   ]
  },
  {
   "cell_type": "code",
   "execution_count": 27,
   "metadata": {},
   "outputs": [
    {
     "name": "stdout",
     "output_type": "stream",
     "text": [
      "\n",
      "CHAPTER\n",
      "I.\n",
      "Down\n",
      "the\n",
      "Rabbit-Hole\n",
      "Alice\n",
      "was\n",
      "beginning\n",
      "to\n",
      "get\n",
      "very\n",
      "tired\n",
      "of\n",
      "sitting\n",
      "by\n",
      "her\n",
      "sister\n",
      "on\n"
     ]
    }
   ],
   "source": [
    "print(re.sub('\\s+', '\\n', text[:100]))"
   ]
  },
  {
   "cell_type": "code",
   "execution_count": 28,
   "metadata": {},
   "outputs": [
    {
     "data": {
      "text/plain": [
       "['CHAPTER I.',\n",
       " 'CHAPTER II.',\n",
       " 'CHAPTER III.',\n",
       " 'CHAPTER IV.',\n",
       " 'CHAPTER V.',\n",
       " 'CHAPTER VI.',\n",
       " 'CHAPTER VII.',\n",
       " 'CHAPTER VIII.',\n",
       " 'CHAPTER IX.',\n",
       " 'CHAPTER X.',\n",
       " 'CHAPTER XI.',\n",
       " 'CHAPTER XII.']"
      ]
     },
     "execution_count": 28,
     "metadata": {},
     "output_type": "execute_result"
    }
   ],
   "source": [
    "re.findall('CHAPTER [^\\s]+', text)"
   ]
  },
  {
   "cell_type": "code",
   "execution_count": 29,
   "metadata": {},
   "outputs": [
    {
     "name": "stdout",
     "output_type": "stream",
     "text": [
      "\n",
      "Chapter I.\n",
      "Down the Rabbit-Hole\n",
      "\n",
      "\n",
      "Alice was beginning to get very tired of sitting by her sister on\n"
     ]
    }
   ],
   "source": [
    "print(re.sub('CHAPTER ([^\\s]+)', 'Chapter \\\\1', text[:100]))"
   ]
  },
  {
   "cell_type": "code",
   "execution_count": 30,
   "metadata": {},
   "outputs": [
    {
     "name": "stdout",
     "output_type": "stream",
     "text": [
      "\n",
      "Chapter I: Down the Rabbit-Hole\n",
      "\n",
      "\n",
      "Alice was beginning to get very tired of sitting by her sister on\n"
     ]
    }
   ],
   "source": [
    "print(re.sub('CHAPTER ([^\\s.]+).\\n([^\\n]*)', 'Chapter \\\\1: \\\\2', text[:100]))"
   ]
  },
  {
   "cell_type": "code",
   "execution_count": 31,
   "metadata": {},
   "outputs": [
    {
     "data": {
      "text/plain": [
       "[('I', 'Down the Rabbit-Hole'),\n",
       " ('II', 'The Pool of Tears'),\n",
       " ('III', 'A Caucus-Race and a Long Tale'),\n",
       " ('IV', 'The Rabbit Sends in a Little Bill'),\n",
       " ('V', 'Advice from a Caterpillar'),\n",
       " ('VI', 'Pig and Pepper'),\n",
       " ('VII', 'A Mad Tea-Party'),\n",
       " ('VIII', 'The Queen’s Croquet-Ground'),\n",
       " ('IX', 'The Mock Turtle’s Story'),\n",
       " ('X', 'The Lobster Quadrille'),\n",
       " ('XI', 'Who Stole the Tarts?'),\n",
       " ('XII', 'Alice’s Evidence')]"
      ]
     },
     "execution_count": 31,
     "metadata": {},
     "output_type": "execute_result"
    }
   ],
   "source": [
    "re.findall('CHAPTER ([^\\s.]+).\\n([^\\n]*)', text)"
   ]
  },
  {
   "cell_type": "markdown",
   "metadata": {},
   "source": [
    "Regular expressions are surprisingly powerful. Also, with the right implementation, they are literally as fast as you can get. That's because they are equivalent to [finite state automata (FSAs)](https://en.wikipedia.org/wiki/Finite-state_machine). Actually, every regular expression is a [regular grammar](https://en.wikipedia.org/wiki/Regular_grammar) defining a [regular language](https://en.wikipedia.org/wiki/Regular_language)."
   ]
  },
  {
   "cell_type": "markdown",
   "metadata": {},
   "source": [
    "![re_xkcd](media/re_xkcd.png)([XKCD #208](https://xkcd.com/208/))"
   ]
  },
  {
   "cell_type": "markdown",
   "metadata": {},
   "source": [
    "## Text segmentation"
   ]
  },
  {
   "cell_type": "markdown",
   "metadata": {},
   "source": [
    "### Sentence splitting"
   ]
  },
  {
   "cell_type": "markdown",
   "metadata": {},
   "source": [
    "#### How to split a text into sentences?"
   ]
  },
  {
   "cell_type": "code",
   "execution_count": 32,
   "metadata": {},
   "outputs": [],
   "source": [
    "text2 = \"'Of course it's only because Tom isn't home,' said Mrs. Parsons vaguely.\""
   ]
  },
  {
   "cell_type": "markdown",
   "metadata": {},
   "source": [
    "Naive: split on `.`, `!`, `?`, etc."
   ]
  },
  {
   "cell_type": "code",
   "execution_count": 33,
   "metadata": {},
   "outputs": [
    {
     "data": {
      "text/plain": [
       "[\"'Of course it's only because Tom isn't home,' said Mrs\",\n",
       " ' Parsons vaguely',\n",
       " '']"
      ]
     },
     "execution_count": 33,
     "metadata": {},
     "output_type": "execute_result"
    }
   ],
   "source": [
    "re.split('[.!?]', text2)"
   ]
  },
  {
   "cell_type": "markdown",
   "metadata": {},
   "source": [
    "Better: use language-specific list of abbreviation words, collocations, etc."
   ]
  },
  {
   "cell_type": "code",
   "execution_count": 34,
   "metadata": {},
   "outputs": [
    {
     "data": {
      "text/plain": [
       "[\"'Of course it's only because Tom isn't home,' said Mrs. Parsons vaguely.\"]"
      ]
     },
     "execution_count": 34,
     "metadata": {},
     "output_type": "execute_result"
    }
   ],
   "source": [
    "nltk.sent_tokenize(text2)"
   ]
  },
  {
   "cell_type": "markdown",
   "metadata": {},
   "source": [
    "Custom lists of patterns are often necessary for special domains. "
   ]
  },
  {
   "cell_type": "code",
   "execution_count": null,
   "metadata": {},
   "outputs": [],
   "source": [
    "text3 = \"An die Stelle der Landesgesetze vom 17. Jänner 1883, n.ö.L.G. u. V.Bl. Nr. 35, vom 26. Dezember 1890, n.ö.L.G. u. V.Bl. Nr. 48, vom 17. Juni 1920 n.ö.L.G. u. V.Bl. Nr. 547, vom 4. November 1920 n.ö.L.G. u. V.Bl. Nr. 808, und vom 9. Dezember 1927, L.G.Bl. für Wien Nr. 1 ex 1928, die, soweit dieses Gesetz nichts anderes bestimmt, zugleich ihre Wirksamkeit verlieren, hat die nachfolgende Bauordnung zu treten.\""
   ]
  },
  {
   "cell_type": "code",
   "execution_count": null,
   "metadata": {},
   "outputs": [],
   "source": [
    "print(text3)"
   ]
  },
  {
   "cell_type": "code",
   "execution_count": null,
   "metadata": {},
   "outputs": [],
   "source": [
    "nltk.sent_tokenize(text3, language='german')"
   ]
  },
  {
   "cell_type": "markdown",
   "metadata": {},
   "source": [
    "###  Tokenization"
   ]
  },
  {
   "cell_type": "markdown",
   "metadata": {},
   "source": [
    "#### How to  split text into words?"
   ]
  },
  {
   "cell_type": "markdown",
   "metadata": {},
   "source": [
    "#### Naive approach: split on whitespace"
   ]
  },
  {
   "cell_type": "code",
   "execution_count": 35,
   "metadata": {},
   "outputs": [
    {
     "data": {
      "text/plain": [
       "[\"'Of\",\n",
       " 'course',\n",
       " \"it's\",\n",
       " 'only',\n",
       " 'because',\n",
       " 'Tom',\n",
       " \"isn't\",\n",
       " \"home,'\",\n",
       " 'said',\n",
       " 'Mrs.',\n",
       " 'Parsons',\n",
       " 'vaguely.']"
      ]
     },
     "execution_count": 35,
     "metadata": {},
     "output_type": "execute_result"
    }
   ],
   "source": [
    "text2.split()"
   ]
  },
  {
   "cell_type": "markdown",
   "metadata": {},
   "source": [
    "#### Better: separate punctuation marks"
   ]
  },
  {
   "cell_type": "code",
   "execution_count": 36,
   "metadata": {},
   "outputs": [
    {
     "data": {
      "text/plain": [
       "[\"'\",\n",
       " 'Of',\n",
       " 'course',\n",
       " 'it',\n",
       " \"'\",\n",
       " 's',\n",
       " 'only',\n",
       " 'because',\n",
       " 'Tom',\n",
       " 'isn',\n",
       " \"'\",\n",
       " 't',\n",
       " 'home',\n",
       " \",'\",\n",
       " 'said',\n",
       " 'Mrs',\n",
       " '.',\n",
       " 'Parsons',\n",
       " 'vaguely',\n",
       " '.']"
      ]
     },
     "execution_count": 36,
     "metadata": {},
     "output_type": "execute_result"
    }
   ],
   "source": [
    "re.findall('(\\w+|[^\\w\\s]+)', text2)[:30]"
   ]
  },
  {
   "cell_type": "markdown",
   "metadata": {},
   "source": [
    "#### Best: add some language-specific conventions:"
   ]
  },
  {
   "cell_type": "code",
   "execution_count": 37,
   "metadata": {},
   "outputs": [
    {
     "data": {
      "text/plain": [
       "[\"'Of\",\n",
       " 'course',\n",
       " 'it',\n",
       " \"'s\",\n",
       " 'only',\n",
       " 'because',\n",
       " 'Tom',\n",
       " 'is',\n",
       " \"n't\",\n",
       " 'home',\n",
       " ',',\n",
       " \"'\",\n",
       " 'said',\n",
       " 'Mrs.',\n",
       " 'Parsons',\n",
       " 'vaguely',\n",
       " '.']"
      ]
     },
     "execution_count": 37,
     "metadata": {},
     "output_type": "execute_result"
    }
   ],
   "source": [
    "nltk.word_tokenize(text2)"
   ]
  },
  {
   "cell_type": "markdown",
   "metadata": {},
   "source": [
    "## Text normalization"
   ]
  },
  {
   "cell_type": "code",
   "execution_count": null,
   "metadata": {},
   "outputs": [],
   "source": [
    "words = nltk.word_tokenize(text)"
   ]
  },
  {
   "cell_type": "code",
   "execution_count": null,
   "metadata": {},
   "outputs": [],
   "source": [
    "words[:10]"
   ]
  },
  {
   "cell_type": "code",
   "execution_count": null,
   "metadata": {},
   "outputs": [],
   "source": [
    "Counter(words).most_common(10)"
   ]
  },
  {
   "cell_type": "markdown",
   "metadata": {},
   "source": [
    "Let's get rid of punctuation"
   ]
  },
  {
   "cell_type": "code",
   "execution_count": null,
   "metadata": {},
   "outputs": [],
   "source": [
    "words = [word for word in words if re.match('\\w', word)]"
   ]
  },
  {
   "cell_type": "code",
   "execution_count": null,
   "metadata": {},
   "outputs": [],
   "source": [
    "Counter(words).most_common(10)"
   ]
  },
  {
   "cell_type": "markdown",
   "metadata": {},
   "source": [
    "Filtering common function words is called __stopword removal__"
   ]
  },
  {
   "cell_type": "code",
   "execution_count": null,
   "metadata": {},
   "outputs": [],
   "source": [
    "from nltk.corpus import stopwords\n",
    "stopwords = set(stopwords.words('english'))\n",
    "print(stopwords)"
   ]
  },
  {
   "cell_type": "code",
   "execution_count": null,
   "metadata": {},
   "outputs": [],
   "source": [
    "words = [word for word in words if word.lower() not in stopwords]"
   ]
  },
  {
   "cell_type": "code",
   "execution_count": null,
   "metadata": {},
   "outputs": [],
   "source": [
    "Counter(words).most_common(20)"
   ]
  },
  {
   "cell_type": "markdown",
   "metadata": {},
   "source": [
    "### Lemmatization and stemming\n",
    "\n",
    "Words like _say_, _says_, and _said_ are all different **word forms** of the same **lemma**. Grouping them together can be useful in many applications. "
   ]
  },
  {
   "cell_type": "markdown",
   "metadata": {},
   "source": [
    "**Stemming** is the reduction of words to a common prefix, using simple rules that only work some of the time:"
   ]
  },
  {
   "cell_type": "code",
   "execution_count": null,
   "metadata": {},
   "outputs": [],
   "source": [
    "from nltk.stem import PorterStemmer\n",
    "stemmer = PorterStemmer()"
   ]
  },
  {
   "cell_type": "code",
   "execution_count": null,
   "metadata": {},
   "outputs": [],
   "source": [
    "for word in ('say', 'says', 'said'):\n",
    "    print(stemmer.stem(word))"
   ]
  },
  {
   "cell_type": "code",
   "execution_count": null,
   "metadata": {},
   "outputs": [],
   "source": [
    "for word in ('he', 'his', 'him'):\n",
    "    print(stemmer.stem(word))"
   ]
  },
  {
   "cell_type": "markdown",
   "metadata": {},
   "source": [
    "**Lemmatization** is the mapping of word forms to their lemma, using either a dictionary of word forms, a grammar of how words are formed (a **morphology**), or both."
   ]
  },
  {
   "cell_type": "code",
   "execution_count": null,
   "metadata": {},
   "outputs": [],
   "source": [
    "nlp = stanza.Pipeline('en', processors='tokenize,lemma,pos')"
   ]
  },
  {
   "cell_type": "code",
   "execution_count": null,
   "metadata": {},
   "outputs": [],
   "source": [
    "doc = nlp(text)"
   ]
  },
  {
   "cell_type": "code",
   "execution_count": null,
   "metadata": {},
   "outputs": [],
   "source": [
    "for sentence in doc.sentences[:5]:\n",
    "    for word in sentence.words:\n",
    "        print(word.text + '\\t' + word.lemma)\n",
    "    print()"
   ]
  },
  {
   "cell_type": "markdown",
   "metadata": {},
   "source": [
    "Now we can count lemmas"
   ]
  },
  {
   "cell_type": "code",
   "execution_count": null,
   "metadata": {},
   "outputs": [],
   "source": [
    "Counter(\n",
    "    word.lemma for sentence in doc.sentences for word in sentence.words\n",
    "    if word.lemma not in stopwords and re.match('\\w', word.lemma)).most_common(20)"
   ]
  },
  {
   "cell_type": "markdown",
   "metadata": {},
   "source": [
    "The full analysis of how a word form is built from its lemma is known as **morphological analysis**"
   ]
  },
  {
   "cell_type": "code",
   "execution_count": null,
   "metadata": {},
   "outputs": [],
   "source": [
    "for sentence in doc.sentences[:5]:\n",
    "    for word in sentence.words:\n",
    "        print('\\t'.join([word.text, word.lemma, word.upos, word.feats if word.feats else '']))\n",
    "    print()"
   ]
  },
  {
   "cell_type": "markdown",
   "metadata": {},
   "source": [
    "A special case of lemmatization is **decompounding**, recognizing multiple lemmas in a word"
   ]
  },
  {
   "cell_type": "code",
   "execution_count": null,
   "metadata": {},
   "outputs": [],
   "source": [
    "nlp('roller-coaster')"
   ]
  },
  {
   "cell_type": "code",
   "execution_count": null,
   "metadata": {},
   "outputs": [],
   "source": [
    "nlp('wastebasket')"
   ]
  },
  {
   "cell_type": "markdown",
   "metadata": {},
   "source": [
    "For English you might say that this is good enough... but _some languages_ allow forming compounds on the fly..."
   ]
  },
  {
   "cell_type": "code",
   "execution_count": null,
   "metadata": {},
   "outputs": [],
   "source": [
    "nlp_de = stanza.Pipeline('de', processors='tokenize,lemma,pos')"
   ]
  },
  {
   "cell_type": "code",
   "execution_count": null,
   "metadata": {},
   "outputs": [],
   "source": [
    "nlp_de('Kassenidentifikationsnummer')"
   ]
  },
  {
   "cell_type": "markdown",
   "metadata": {},
   "source": [
    "There is no good generic solution and no standard tool. There are some unsupervised approaches like [SECOS](https://github.com/riedlma/SECOS) and [CharSplit](https://github.com/dtuggener/CharSplit), and there are also full-fledged morphological analyzers that might work, like [SMOR](https://www.cis.lmu.de/~schmid/tools/SMOR/) and its extensions [zmorge](https://pub.cl.uzh.ch/users/sennrich/zmorge/) and [SMORLemma](https://github.com/rsennrich/SMORLemma)."
   ]
  },
  {
   "cell_type": "markdown",
   "metadata": {},
   "source": [
    "## Examples"
   ]
  },
  {
   "cell_type": "markdown",
   "metadata": {},
   "source": [
    "### Text processing with regular expressions"
   ]
  },
  {
   "cell_type": "markdown",
   "metadata": {},
   "source": [
    "Load a sample text"
   ]
  },
  {
   "cell_type": "code",
   "execution_count": null,
   "metadata": {},
   "outputs": [],
   "source": [
    "text = open('data/alice.txt').read()\n",
    "print(text[:1000])"
   ]
  },
  {
   "cell_type": "code",
   "execution_count": null,
   "metadata": {},
   "outputs": [],
   "source": [
    "def clean_text(text):\n",
    "    cleaned_text = re.sub('_','',text)\n",
    "    cleaned_text = re.sub('\\n', ' ', cleaned_text)\n",
    "    return cleaned_text"
   ]
  },
  {
   "cell_type": "code",
   "execution_count": null,
   "metadata": {},
   "outputs": [],
   "source": [
    "text = clean_text(text)"
   ]
  },
  {
   "cell_type": "code",
   "execution_count": null,
   "metadata": {},
   "outputs": [],
   "source": [
    "print(text[:1000])"
   ]
  },
  {
   "cell_type": "markdown",
   "metadata": {},
   "source": [
    "Let's split this into sentences, then words."
   ]
  },
  {
   "cell_type": "code",
   "execution_count": null,
   "metadata": {},
   "outputs": [],
   "source": [
    "sens = sent_tokenize(text)"
   ]
  },
  {
   "cell_type": "code",
   "execution_count": null,
   "metadata": {},
   "outputs": [],
   "source": [
    "print('\\n\\n'.join(sens[:5]))"
   ]
  },
  {
   "cell_type": "code",
   "execution_count": null,
   "metadata": {},
   "outputs": [],
   "source": [
    "toks = [word_tokenize(sen) for sen in sens]"
   ]
  },
  {
   "cell_type": "code",
   "execution_count": null,
   "metadata": {},
   "outputs": [],
   "source": [
    "print('\\n\\n'.join('\\n'.join(sen) for sen in toks[:5]))"
   ]
  },
  {
   "cell_type": "markdown",
   "metadata": {},
   "source": [
    "Let's also write this to a file"
   ]
  },
  {
   "cell_type": "code",
   "execution_count": null,
   "metadata": {},
   "outputs": [],
   "source": [
    "with open('data/alice_tok.txt', 'w') as f:\n",
    "    f.write('\\n\\n'.join('\\n'.join(sen) for sen in toks) + '\\n')"
   ]
  },
  {
   "cell_type": "markdown",
   "metadata": {},
   "source": [
    "Let's try to find all names using regexes"
   ]
  },
  {
   "cell_type": "code",
   "execution_count": null,
   "metadata": {},
   "outputs": [],
   "source": [
    "def find_names(toks):\n",
    "    curr_name = []\n",
    "    for sen in toks:\n",
    "        for tok in sen[1:]:\n",
    "            if re.match('[A-Z][a-z]+', tok):\n",
    "                curr_name.append(tok)\n",
    "            elif curr_name:\n",
    "                yield ' '.join(curr_name)\n",
    "                curr_name = []\n",
    "                \n",
    "        if curr_name:\n",
    "            yield curr_name\n",
    "            \n",
    "        \n",
    "def count_names(toks):\n",
    "    name_counter = Counter()\n",
    "    \n",
    "    for name in find_names(toks):\n",
    "        name_counter[name] += 1\n",
    "    \n",
    "    for name, count in name_counter.most_common():\n",
    "        print(name, count)"
   ]
  },
  {
   "cell_type": "code",
   "execution_count": null,
   "metadata": {},
   "outputs": [],
   "source": [
    "count_names(toks)"
   ]
  },
  {
   "cell_type": "markdown",
   "metadata": {},
   "source": [
    "We can filter our tokens for stopwords:"
   ]
  },
  {
   "cell_type": "code",
   "execution_count": null,
   "metadata": {},
   "outputs": [],
   "source": [
    "toks_without_stopwords = [[tok for tok in sen if tok.lower() not in stopwords] for sen in toks]"
   ]
  },
  {
   "cell_type": "code",
   "execution_count": null,
   "metadata": {},
   "outputs": [],
   "source": [
    "print('\\n\\n'.join('\\n'.join(sen) for sen in toks_without_stopwords[:5]))"
   ]
  },
  {
   "cell_type": "code",
   "execution_count": null,
   "metadata": {},
   "outputs": [],
   "source": [
    "count_names(toks_without_stopwords)"
   ]
  },
  {
   "cell_type": "markdown",
   "metadata": {},
   "source": [
    "Let's also write the stopwords into a file"
   ]
  },
  {
   "cell_type": "code",
   "execution_count": null,
   "metadata": {},
   "outputs": [],
   "source": [
    "with open('data/stopwords.txt', 'w') as f:\n",
    "    f.write('\\n'.join(sorted(stopwords)) + '\\n')"
   ]
  },
  {
   "cell_type": "markdown",
   "metadata": {},
   "source": [
    "Continue to [Text processing on the Linux command line](https://github.com/tuw-nlp-ie/tuw-nlp-ie-2021WS/blob/main/lectures/01_Text_processing/01b_Text_processing_Linux_command_line.ipynb)"
   ]
  }
 ],
 "metadata": {
  "kernelspec": {
   "display_name": "Python 3 (ipykernel)",
   "language": "python",
   "name": "python3"
  },
  "language_info": {
   "codemirror_mode": {
    "name": "ipython",
    "version": 3
   },
   "file_extension": ".py",
   "mimetype": "text/x-python",
   "name": "python",
   "nbconvert_exporter": "python",
   "pygments_lexer": "ipython3",
   "version": "3.9.6"
  }
 },
 "nbformat": 4,
 "nbformat_minor": 4
}
