{
 "cells": [
  {
   "cell_type": "markdown",
   "metadata": {},
   "source": [
    "# Introduction to the Linux command line\n",
    "\n",
    "### Data-oriented Programming Paradigms,  2021 WS\n",
    "10/12/2021\n",
    "\n",
    "Gábor Recski"
   ]
  },
  {
   "cell_type": "markdown",
   "metadata": {},
   "source": [
    "There's a huge amount of documentation on Linux programming (start e.g. [here](https://tldp.org/index.html)), this is an introduction to only a very small and specific subset."
   ]
  },
  {
   "cell_type": "markdown",
   "metadata": {},
   "source": [
    "The commands below are typically run in a terminal, which is actually the interpreter of a [shell](), such as [bash](), the default shell on most Linux distributions.\n",
    "\n",
    "To run the commands inside this notebook, you need to install the bash kernel for jupyter, e.g. like this:\n",
    "```\n",
    "pip install bash-kernel\n",
    "python -m bash_kernel.install\n",
    "```"
   ]
  },
  {
   "cell_type": "code",
   "execution_count": 1,
   "metadata": {},
   "outputs": [],
   "source": [
    "export LC_ALL=C"
   ]
  },
  {
   "cell_type": "markdown",
   "metadata": {},
   "source": [
    "The first command sets an __environment variable__ to control the system __locale__ for this session, this ensures that your language and region settings do not interfere with how some tools such as __sort__ work in the examples below. __You need not understand this for now__, but these are still topics worth getting familiar with:\n",
    "- [locale](https://en.wikipedia.org/wiki/Locale_(computer_software))\n",
    "- [environment variables](https://en.wikipedia.org/wiki/Environment_variable)\n",
    "- [sorting and locale](https://stackoverflow.com/questions/28881/why-doesnt-sort-sort-the-same-on-every-machine)."
   ]
  },
  {
   "cell_type": "markdown",
   "metadata": {},
   "source": [
    "Let's look at the contents of the data directory"
   ]
  },
  {
   "cell_type": "code",
   "execution_count": 2,
   "metadata": {},
   "outputs": [
    {
     "name": "stdout",
     "output_type": "stream",
     "text": [
      "total 9056\n",
      "-rw-rw-r-- 1 eszter eszter  597304 Oct 18 10:24 1984.txt\n",
      "-rw-rw-r-- 1 eszter eszter  150503 Oct 18 10:24 alice.txt\n",
      "-rw-rw-r-- 1 eszter eszter  163327 Oct 18 10:24 alice_de.txt\n",
      "-rw-rw-r-- 1 eszter eszter  157697 Oct 18 10:24 alice_tok.txt\n",
      "-rw-rw-r-- 1 eszter eszter    3355 Oct 18 10:24 ent_freqs.txt\n",
      "-rw-rw-r-- 1 eszter eszter     936 Oct 18 10:24 stopwords.txt\n",
      "-rw-rw-r-- 1 eszter eszter 8188354 Oct 18 10:24 ta_restaurants_31EU.tsv\n"
     ]
    }
   ],
   "source": [
    "ls -l data"
   ]
  },
  {
   "cell_type": "markdown",
   "metadata": {},
   "source": [
    "`ls` is the name of a program for listing directory contents, `-l` is an **option**. Most programs used in this notebook have dozens of options and you shouldn't expect to learn about all of them at once."
   ]
  },
  {
   "cell_type": "markdown",
   "metadata": {},
   "source": [
    "You can get a summary of what each command does and what paramteres it has using the `man` command"
   ]
  },
  {
   "cell_type": "code",
   "execution_count": 3,
   "metadata": {},
   "outputs": [
    {
     "name": "stdout",
     "output_type": "stream",
     "text": [
      "LS(1)                            User Commands                           LS(1)\n",
      "\n",
      "NAME\n",
      "       ls - list directory contents\n",
      "\n",
      "SYNOPSIS\n",
      "       ls [OPTION]... [FILE]...\n",
      "\n",
      "DESCRIPTION\n",
      "       List  information  about  the FILEs (the current directory by default).\n",
      "       Sort entries alphabetically if none of -cftuvSUX nor --sort  is  speci-\n",
      "       fied.\n",
      "\n",
      "       Mandatory  arguments  to  long  options are mandatory for short options\n",
      "       too.\n",
      "\n",
      "       -a, --all\n",
      "              do not ignore entries starting with .\n",
      "\n",
      "       -A, --almost-all\n",
      "              do not list implied . and ..\n",
      "\n",
      "       --author\n",
      "              with -l, print the author of each file\n",
      "\n",
      "       -b, --escape\n",
      "              print C-style escapes for nongraphic characters\n",
      "\n",
      "       --block-size=SIZE\n",
      "              with  -l,  scale  sizes  by  SIZE  when  printing  them;   e.g.,\n",
      "              '--block-size=M'; see SIZE format below\n",
      "\n",
      "       -B, --ignore-backups\n",
      "              do not list implied entries ending with ~\n",
      "\n",
      "       -c     with -lt: sort by, and show, ctime (time of last modification of\n",
      "              file status information); with -l: show ctime and sort by  name;\n",
      "              otherwise: sort by ctime, newest first\n",
      "\n",
      "       -C     list entries by columns\n",
      "\n",
      "       --color[=WHEN]\n",
      "              colorize  the output; WHEN can be 'always' (default if omitted),\n",
      "              'auto', or 'never'; more info below\n",
      "\n",
      "       -d, --directory\n",
      "              list directories themselves, not their contents\n",
      "\n",
      "       -D, --dired\n",
      "              generate output designed for Emacs' dired mode\n",
      "\n",
      "       -f     do not sort, enable -aU, disable -ls --color\n",
      "\n",
      "       -F, --classify\n",
      "              append indicator (one of */=>@|) to entries\n",
      "\n",
      "       --file-type\n",
      "              likewise, except do not append '*'\n",
      "\n",
      "       --format=WORD\n",
      "              across -x, commas -m, horizontal -x, long -l, single-column  -1,\n",
      "              verbose -l, vertical -C\n",
      "\n",
      "       --full-time\n",
      "              like -l --time-style=full-iso\n",
      "\n",
      "       -g     like -l, but do not list owner\n",
      "\n",
      "       --group-directories-first\n",
      "              group directories before files;\n",
      "\n",
      "              can   be  augmented  with  a  --sort  option,  but  any  use  of\n",
      "              --sort=none (-U) disables grouping\n",
      "\n",
      "       -G, --no-group\n",
      "              in a long listing, don't print group names\n",
      "\n",
      "       -h, --human-readable\n",
      "              with -l and -s, print sizes like 1K 234M 2G etc.\n",
      "\n",
      "       --si   likewise, but use powers of 1000 not 1024\n",
      "\n",
      "       -H, --dereference-command-line\n",
      "              follow symbolic links listed on the command line\n",
      "\n",
      "       --dereference-command-line-symlink-to-dir\n",
      "              follow each command line symbolic link\n",
      "\n",
      "              that points to a directory\n",
      "\n",
      "       --hide=PATTERN\n",
      "              do not list implied entries matching shell  PATTERN  (overridden\n",
      "              by -a or -A)\n",
      "\n",
      "       --hyperlink[=WHEN]\n",
      "              hyperlink file names; WHEN can be 'always' (default if omitted),\n",
      "              'auto', or 'never'\n",
      "\n",
      "       --indicator-style=WORD\n",
      "              append indicator with style WORD to entry names: none (default),\n",
      "              slash (-p), file-type (--file-type), classify (-F)\n",
      "\n",
      "       -i, --inode\n",
      "              print the index number of each file\n",
      "\n",
      "       -I, --ignore=PATTERN\n",
      "              do not list implied entries matching shell PATTERN\n",
      "\n",
      "       -k, --kibibytes\n",
      "              default  to  1024-byte  blocks for disk usage; used only with -s\n",
      "              and per directory totals\n",
      "\n",
      "       -l     use a long listing format\n",
      "\n",
      "       -L, --dereference\n",
      "              when showing file information for a symbolic link, show informa-\n",
      "              tion  for  the file the link references rather than for the link\n",
      "              itself\n",
      "\n",
      "       -m     fill width with a comma separated list of entries\n",
      "\n",
      "       -n, --numeric-uid-gid\n",
      "              like -l, but list numeric user and group IDs\n",
      "\n",
      "       -N, --literal\n",
      "              print entry names without quoting\n",
      "\n",
      "       -o     like -l, but do not list group information\n",
      "\n",
      "       -p, --indicator-style=slash\n",
      "              append / indicator to directories\n",
      "\n",
      "       -q, --hide-control-chars\n",
      "              print ? instead of nongraphic characters\n",
      "\n",
      "       --show-control-chars\n",
      "              show nongraphic characters as-is (the default, unless program is\n",
      "              'ls' and output is a terminal)\n",
      "\n",
      "       -Q, --quote-name\n",
      "              enclose entry names in double quotes\n",
      "\n",
      "       --quoting-style=WORD\n",
      "              use  quoting style WORD for entry names: literal, locale, shell,\n",
      "              shell-always,  shell-escape,  shell-escape-always,   c,   escape\n",
      "              (overrides QUOTING_STYLE environment variable)\n",
      "\n",
      "       -r, --reverse\n",
      "              reverse order while sorting\n",
      "\n",
      "       -R, --recursive\n",
      "              list subdirectories recursively\n",
      "\n",
      "       -s, --size\n",
      "              print the allocated size of each file, in blocks\n",
      "\n",
      "       -S     sort by file size, largest first\n",
      "\n",
      "       --sort=WORD\n",
      "              sort  by  WORD instead of name: none (-U), size (-S), time (-t),\n",
      "              version (-v), extension (-X)\n",
      "\n",
      "       --time=WORD\n",
      "              with -l, show time as WORD instead of default modification time:\n",
      "              atime  or  access  or  use  (-u); ctime or status (-c); also use\n",
      "              specified time as sort key if --sort=time (newest first)\n",
      "\n",
      "       --time-style=TIME_STYLE\n",
      "              time/date format with -l; see TIME_STYLE below\n",
      "\n",
      "       -t     sort by modification time, newest first\n",
      "\n",
      "       -T, --tabsize=COLS\n",
      "              assume tab stops at each COLS instead of 8\n",
      "\n",
      "       -u     with -lt: sort by, and show, access time; with -l:  show  access\n",
      "              time  and  sort  by name; otherwise: sort by access time, newest\n",
      "              first\n",
      "\n",
      "       -U     do not sort; list entries in directory order\n",
      "\n",
      "       -v     natural sort of (version) numbers within text\n",
      "\n",
      "       -w, --width=COLS\n",
      "              set output width to COLS.  0 means no limit\n",
      "\n",
      "       -x     list entries by lines instead of by columns\n",
      "\n",
      "       -X     sort alphabetically by entry extension\n",
      "\n",
      "       -Z, --context\n",
      "              print any security context of each file\n",
      "\n",
      "       -1     list one file per line.  Avoid '\\n' with -q or -b\n",
      "\n",
      "       --help display this help and exit\n",
      "\n",
      "       --version\n",
      "              output version information and exit\n",
      "\n",
      "       The SIZE argument is an integer and  optional  unit  (example:  10K  is\n",
      "       10*1024).   Units  are  K,M,G,T,P,E,Z,Y  (powers  of 1024) or KB,MB,...\n",
      "       (powers of 1000).\n",
      "\n",
      "       The TIME_STYLE argument can be  full-iso,  long-iso,  iso,  locale,  or\n",
      "       +FORMAT.   FORMAT  is  interpreted  like in date(1).  If FORMAT is FOR-\n",
      "       MAT1<newline>FORMAT2, then FORMAT1 applies to non-recent files and FOR-\n",
      "       MAT2  to  recent files.  TIME_STYLE prefixed with 'posix-' takes effect\n",
      "       only outside the POSIX locale.  Also the TIME_STYLE  environment  vari-\n",
      "       able sets the default style to use.\n",
      "\n",
      "       Using  color  to distinguish file types is disabled both by default and\n",
      "       with --color=never.  With --color=auto, ls emits color codes only  when\n",
      "       standard  output is connected to a terminal.  The LS_COLORS environment\n",
      "       variable can change the settings.  Use the dircolors command to set it.\n",
      "\n",
      "   Exit status:\n",
      "       0      if OK,\n",
      "\n",
      "       1      if minor problems (e.g., cannot access subdirectory),\n",
      "\n",
      "       2      if serious trouble (e.g., cannot access command-line argument).\n",
      "\n",
      "AUTHOR\n",
      "       Written by Richard M. Stallman and David MacKenzie.\n",
      "\n",
      "REPORTING BUGS\n",
      "       GNU coreutils online help: <https://www.gnu.org/software/coreutils/>\n",
      "       Report ls translation bugs to <https://translationproject.org/team/>\n",
      "\n",
      "COPYRIGHT\n",
      "       Copyright (C) 2018 Free Software Foundation, Inc.  License GPLv3+:  GNU\n",
      "       GPL version 3 or later <https://gnu.org/licenses/gpl.html>.\n",
      "       This  is  free  software:  you  are free to change and redistribute it.\n",
      "       There is NO WARRANTY, to the extent permitted by law.\n",
      "\n",
      "SEE ALSO\n",
      "       Full documentation at: <https://www.gnu.org/software/coreutils/ls>\n",
      "       or available locally via: info '(coreutils) ls invocation'\n",
      "\n",
      "GNU coreutils 8.30              September 2019                           LS(1)\n"
     ]
    }
   ],
   "source": [
    "man ls"
   ]
  },
  {
   "cell_type": "markdown",
   "metadata": {},
   "source": [
    "For example, this command will list the directory contents by file size and also use human-readable numbers for file size:"
   ]
  },
  {
   "cell_type": "code",
   "execution_count": 4,
   "metadata": {},
   "outputs": [
    {
     "name": "stdout",
     "output_type": "stream",
     "text": [
      "total 8.9M\n",
      "-rw-rw-r-- 1 eszter eszter 7.9M Oct 18 10:24 ta_restaurants_31EU.tsv\n",
      "-rw-rw-r-- 1 eszter eszter 584K Oct 18 10:24 1984.txt\n",
      "-rw-rw-r-- 1 eszter eszter 160K Oct 18 10:24 alice_de.txt\n",
      "-rw-rw-r-- 1 eszter eszter 155K Oct 18 10:24 alice_tok.txt\n",
      "-rw-rw-r-- 1 eszter eszter 147K Oct 18 10:24 alice.txt\n",
      "-rw-rw-r-- 1 eszter eszter 3.3K Oct 18 10:24 ent_freqs.txt\n",
      "-rw-rw-r-- 1 eszter eszter  936 Oct 18 10:24 stopwords.txt\n"
     ]
    }
   ],
   "source": [
    "ls -lSh data"
   ]
  },
  {
   "cell_type": "markdown",
   "metadata": {},
   "source": [
    "### Day-to-day tasks with pipes"
   ]
  },
  {
   "cell_type": "markdown",
   "metadata": {},
   "source": [
    "##### What jupyter processes am I running?"
   ]
  },
  {
   "cell_type": "code",
   "execution_count": 5,
   "metadata": {},
   "outputs": [
    {
     "name": "stdout",
     "output_type": "stream",
     "text": [
      "eszter     15175  0.8  0.5 355580 86572 pts/0    Sl+  10:55   0:04 /home/eszter/.pyenv/versions/3.9.6/envs/phd/bin/python3.9 /home/eszter/.pyenv/versions/phd/bin/\u001b[01;31m\u001b[Kjupyter\u001b[m\u001b[K-lab\n",
      "eszter     15318  0.1  0.3 786924 58004 ?        Ssl  10:55   0:00 /home/eszter/.pyenv/versions/3.9.6/envs/phd/bin/python3.9 -m ipykernel_launcher -f /home/eszter/.local/share/\u001b[01;31m\u001b[Kjupyter\u001b[m\u001b[K/runtime/kernel-99c7f8eb-a9b7-4a3b-9204-644fe0a4dd57.json\n",
      "eszter     15321  0.1  0.3 712756 57000 ?        Ssl  10:55   0:00 /home/eszter/.pyenv/versions/phd/bin/python -m bash_kernel -f /home/eszter/.local/share/\u001b[01;31m\u001b[Kjupyter\u001b[m\u001b[K/runtime/kernel-bef79d61-4aef-4af5-9da3-07fccd3957e0.json\n",
      "eszter     15481  0.1  0.3 713012 57612 ?        Ssl  10:56   0:00 /home/eszter/.pyenv/versions/phd/bin/python -m bash_kernel -f /home/eszter/.local/share/\u001b[01;31m\u001b[Kjupyter\u001b[m\u001b[K/runtime/kernel-1a5c066b-4094-4817-870b-3c722831f7e3.json\n",
      "eszter     16359  0.0  0.0   3316   732 pts/3    S+   11:03   0:00 grep --color=auto \u001b[01;31m\u001b[Kjupyter\u001b[m\u001b[K\n"
     ]
    }
   ],
   "source": [
    "ps aux | grep `whoami` | grep jupyter"
   ]
  },
  {
   "cell_type": "markdown",
   "metadata": {},
   "source": [
    "##### What directories are using up all the disk space?"
   ]
  },
  {
   "cell_type": "code",
   "execution_count": 6,
   "metadata": {},
   "outputs": [
    {
     "name": "stdout",
     "output_type": "stream",
     "text": [
      "48K\t./.ipynb_checkpoints\n",
      "588K\t./media\n",
      "8.9M\t./data\n",
      "9.6M\t.\n"
     ]
    }
   ],
   "source": [
    "du -h --max-depth=1 | sort -h"
   ]
  },
  {
   "cell_type": "markdown",
   "metadata": {},
   "source": [
    "### Simple data processing with pipes"
   ]
  },
  {
   "cell_type": "markdown",
   "metadata": {},
   "source": [
    "The file in `data/ta_restaurants_31EU.tsv` contains basic information about restaurants in 31 EU cities, from TripAdvisor. It is based on a [Kaggle dataset](https://www.kaggle.com/damienbeneschi/krakow-ta-restaurans-data-raw)."
   ]
  },
  {
   "cell_type": "markdown",
   "metadata": {},
   "source": [
    "#### What is in the data?"
   ]
  },
  {
   "cell_type": "code",
   "execution_count": 7,
   "metadata": {},
   "outputs": [
    {
     "name": "stdout",
     "output_type": "stream",
     "text": [
      "# created from original CSV at https://www.kaggle.com/damienbeneschi/krakow-ta-restaurans-data-raw\n",
      "# fields: Name, City, Cuisine Style, Rating, Price Range, Number of Reviews\n",
      "Martine of Martine's Table\tAmsterdam\tFrench|Dutch|European\t5.0\t$$ - $$$\t136.0\n",
      "De Silveren Spiegel\tAmsterdam\tDutch|European|Vegetarian Friendly|Gluten Free Options\t4.5\t$$$$\t812.0\n",
      "La Rive\tAmsterdam\tMediterranean|French|International|European|Vegetarian Friendly|Vegan Options\t4.5\t$$$$\t567.0\n",
      "Vinkeles\tAmsterdam\tFrench|European|International|Contemporary|Vegetarian Friendly|Vegan Options|Gluten Free Options\t5.0\t$$$$\t564.0\n",
      "Librije's Zusje Amsterdam\tAmsterdam\tDutch|European|International|Vegetarian Friendly|Vegan Options|Gluten Free Options\t4.5\t$$$$\t316.0\n",
      "Ciel Bleu Restaurant\tAmsterdam\tContemporary|International|Vegetarian Friendly|Vegan Options|Gluten Free Options\t4.5\t$$$$\t745.0\n",
      "Zaza's\tAmsterdam\tFrench|International|Mediterranean|European|Vegetarian Friendly|Vegan Options|Gluten Free Options\t4.5\t$$ - $$$\t1455.0\n",
      "Blue Pepper Restaurant And Candlelight Cruises\tAmsterdam\tAsian|Indonesian|Vegetarian Friendly|Vegan Options|Gluten Free Options\t4.5\t$$$$\t675.0\n",
      "cat: write error: Broken pipe\n"
     ]
    }
   ],
   "source": [
    "cat data/ta_restaurants_31EU.tsv | head"
   ]
  },
  {
   "cell_type": "markdown",
   "metadata": {},
   "source": [
    "#### How many restaurants? How many in Vienna? How many in each city?"
   ]
  },
  {
   "cell_type": "code",
   "execution_count": 8,
   "metadata": {},
   "outputs": [
    {
     "name": "stdout",
     "output_type": "stream",
     "text": [
      "125523\n"
     ]
    }
   ],
   "source": [
    "cat data/ta_restaurants_31EU.tsv | grep -v '^#' | wc -l"
   ]
  },
  {
   "cell_type": "code",
   "execution_count": 9,
   "metadata": {},
   "outputs": [
    {
     "name": "stdout",
     "output_type": "stream",
     "text": [
      "3732\n"
     ]
    }
   ],
   "source": [
    "cat data/ta_restaurants_31EU.tsv | grep -v '^#' | grep 'Vienna' | wc -l"
   ]
  },
  {
   "cell_type": "code",
   "execution_count": 10,
   "metadata": {},
   "outputs": [
    {
     "name": "stdout",
     "output_type": "stream",
     "text": [
      "  18211 London\n",
      "  14874 Paris\n",
      "   9543 Madrid\n",
      "   8425 Barcelona\n",
      "   7078 Berlin\n",
      "   6687 Milan\n",
      "   5948 Rome\n",
      "   4859 Prague\n",
      "   3986 Lisbon\n",
      "   3724 Vienna\n",
      "   3434 Amsterdam\n",
      "   3204 Brussels\n",
      "   3131 Hamburg\n",
      "   2995 Munich\n",
      "   2930 Lyon\n",
      "   2705 Stockholm\n",
      "   2605 Budapest\n",
      "   2352 Warsaw\n",
      "   2109 Copenhagen\n",
      "   2082 Dublin\n",
      "   1938 Athens\n",
      "   1865 Edinburgh\n",
      "   1667 Zurich\n",
      "   1580 Oporto\n",
      "   1572 Geneva\n",
      "   1354 Krakow\n",
      "   1227 Helsinki\n",
      "   1213 Oslo\n",
      "   1067 Bratislava\n",
      "    657 Luxembourg\n",
      "    501 Ljubljana\n"
     ]
    }
   ],
   "source": [
    "cat data/ta_restaurants_31EU.tsv | grep -v '^#' | cut -f2 | sort | uniq -c | sort -nr"
   ]
  },
  {
   "cell_type": "markdown",
   "metadata": {},
   "source": [
    "#### What are the top cuisines in the dataset?"
   ]
  },
  {
   "cell_type": "code",
   "execution_count": 17,
   "metadata": {},
   "outputs": [
    {
     "name": "stdout",
     "output_type": "stream",
     "text": [
      "  32359 Vegetarian Friendly\n",
      "  31350 unknown\n",
      "  30226 European\n",
      "  18427 Mediterranean\n",
      "  17794 Italian\n",
      "  13009 Vegan Options\n",
      "  12120 Gluten Free Options\n",
      "   9689 Bar\n",
      "   9558 French\n",
      "   9064 Asian\n"
     ]
    }
   ],
   "source": [
    "cat data/ta_restaurants_31EU.tsv | grep -v '^#' | cut -f3 | tr '|' '\\n' | sort | uniq -c | sort -nr | head"
   ]
  },
  {
   "cell_type": "markdown",
   "metadata": {},
   "source": [
    "#### Which are the top-rated restaurants in Vienna?"
   ]
  },
  {
   "cell_type": "code",
   "execution_count": 16,
   "metadata": {},
   "outputs": [
    {
     "name": "stdout",
     "output_type": "stream",
     "text": [
      "wunderladen modecafe\tVienna\tCafe\t5.0\t$$ - $$$\t13.0\n",
      "s'Kellerstockl\tVienna\tWine Bar\t5.0\t$$ - $$$\t4.0\n",
      "restaurant Jiang\tVienna\tChinese\t5.0\tunknown\t\n",
      "repubblica del vino.vienna\tVienna\tItalian\t5.0\tunknown\t\n",
      "kem’s Bar & Kitchenette\tVienna\tItalian|Austrian|International|European|Middle Eastern\t5.0\t$$ - $$$\t4.0\n",
      "engels- die Bar\tVienna\tBar|Fast Food|Pub\t5.0\t$\t8.0\n",
      "daily Imbiss\tVienna\tIndian|Asian|Vegetarian Friendly\t5.0\t$\t42.0\n",
      "Zypresse\tVienna\tTurkish\t5.0\t$$ - $$$\t11.0\n",
      "Zuppa\tVienna\tInternational|Mediterranean|Asian\t5.0\t$\t3.0\n",
      "Zum Suppentopf\tVienna\tunknown\t5.0\tunknown\t2.0\n",
      "sort: write failed: 'standard output': Broken pipe\n",
      "sort: write error\n"
     ]
    }
   ],
   "source": [
    "cat data/ta_restaurants_31EU.tsv | grep -v '^#' | awk -F$'\\t' '$2 == \"Vienna\"' | sort -t $'\\t' -k4 -gr | head"
   ]
  },
  {
   "cell_type": "markdown",
   "metadata": {},
   "source": [
    "#### OK, how about top-rated cheap restaurants?"
   ]
  },
  {
   "cell_type": "code",
   "execution_count": null,
   "metadata": {},
   "outputs": [],
   "source": [
    "cat data/ta_restaurants_31EU.tsv | grep -v '^#' | awk -F$'\\t' '$2 == \"Vienna\"'  | grep -v '\\$\\$' | sort -t $'\\t' -k4 -gr | head"
   ]
  },
  {
   "cell_type": "markdown",
   "metadata": {},
   "source": [
    "#### How about top-rated, cheap, vegan restaurants?"
   ]
  },
  {
   "cell_type": "code",
   "execution_count": 18,
   "metadata": {},
   "outputs": [
    {
     "name": "stdout",
     "output_type": "stream",
     "text": [
      "Reformhaus Staudigl\tVienna\tHealthy|Vegetarian Friendly|Vegan Options\t5.0\t$\t8.0\n",
      "Dem's Gourmet\tVienna\tIndian|Asian|Vegetarian Friendly|Vegan Options|Halal\t5.0\t$\t\n",
      "Cha No Ma\tVienna\tJapanese|Cafe|Asian|Vegetarian Friendly|Vegan Options\t5.0\t$\t33.0\n",
      "B.K Curry Indian Restaurant\tVienna\tIndian|Asian|Vegetarian Friendly|Vegan Options|Halal\t5.0\t$\t\n",
      "neuDeli\tVienna\tIndian|Mediterranean|Delicatessen|Vegetarian Friendly|Vegan Options\t4.5\t$\t13.0\n",
      "Wurstelstand Leo\tVienna\tStreet Food|German|Austrian|Fast Food|European|Vegan Options\t4.5\t$\t57.0\n",
      "Vietnam Bistro\tVienna\tAsian|Vietnamese|Vegetarian Friendly|Vegan Options\t4.5\t$\t57.0\n",
      "Trzesniewski\tVienna\tAustrian|European|Vegetarian Friendly|Vegan Options\t4.5\t$\t1076.0\n",
      "Tata Restaurant\tVienna\tAsian|Vietnamese|Fusion|Vegetarian Friendly|Vegan Options\t4.5\t$\t106.0\n",
      "Shelanu\tVienna\tMiddle Eastern|Israeli|Vegetarian Friendly|Vegan Options|Kosher\t4.5\t$\t2.0\n"
     ]
    }
   ],
   "source": [
    "cat data/ta_restaurants_31EU.tsv | grep -v '^#' | awk -F$'\\t' '$2 == \"Vienna\"'  |  grep '\\$' | grep -v '\\$\\$' | grep 'Vegan Options' | sort -t $'\\t' -k4 -gr | head"
   ]
  },
  {
   "cell_type": "markdown",
   "metadata": {},
   "source": [
    "#### Finally, filter those with less than 100 reviews"
   ]
  },
  {
   "cell_type": "code",
   "execution_count": 19,
   "metadata": {},
   "outputs": [
    {
     "name": "stdout",
     "output_type": "stream",
     "text": [
      "Trzesniewski\tVienna\tAustrian|European|Vegetarian Friendly|Vegan Options\t4.5\t$\t1076.0\n",
      "Tata Restaurant\tVienna\tAsian|Vietnamese|Fusion|Vegetarian Friendly|Vegan Options\t4.5\t$\t106.0\n",
      "Schillinger's Swing Kitchen\tVienna\tAmerican|Fast Food|European|Vegetarian Friendly|Vegan Options|Gluten Free Options\t4.5\t$\t304.0\n",
      "Schachtelwirt\tVienna\tAustrian|Fast Food|European|Central European|Vegetarian Friendly|Vegan Options|Gluten Free Options\t4.5\t$\t463.0\n",
      "Kolar\tVienna\tEuropean|Vegetarian Friendly|Vegan Options\t4.5\t$\t166.0\n",
      "Blueorange\tVienna\tCafe|Vegetarian Friendly|Vegan Options|Gluten Free Options\t4.5\t$\t116.0\n",
      "Nguyen's Pho House\tVienna\tAsian|Vietnamese|Soups|Vegetarian Friendly|Vegan Options|Gluten Free Options\t4.0\t$\t204.0\n",
      "Hungry Guy\tVienna\tInternational|Street Food|Middle Eastern|Vegetarian Friendly|Vegan Options|Gluten Free Options\t4.0\t$\t356.0\n",
      "Der Wiener Deewan\tVienna\tIndian|Asian|Pakistani|Vegetarian Friendly|Vegan Options|Halal\t4.0\t$\t238.0\n",
      "pizza bizi\tVienna\tItalian|Pizza|Fast Food|Vegetarian Friendly|Vegan Options\t3.5\t$\t390.0\n",
      "Wok & More\tVienna\tChinese|Asian|Sushi|Fusion|Vegetarian Friendly|Vegan Options\t3.5\t$\t203.0\n",
      "Maschu Maschu\tVienna\tMediterranean|Middle Eastern|Israeli|Vegetarian Friendly|Vegan Options\t3.5\t$\t212.0\n"
     ]
    }
   ],
   "source": [
    "cat data/ta_restaurants_31EU.tsv | grep -v '^#' | awk -F$'\\t' '$2 == \"Vienna\"'  |  grep '\\$' | grep -v '\\$\\$' | grep 'Vegan Options' | awk -F$'\\t' '$6 >= 100' | sort -t $'\\t' -k4 -gr "
   ]
  }
 ],
 "metadata": {
  "kernelspec": {
   "display_name": "Bash",
   "language": "bash",
   "name": "bash"
  },
  "language_info": {
   "codemirror_mode": "shell",
   "file_extension": ".sh",
   "mimetype": "text/x-sh",
   "name": "bash"
  }
 },
 "nbformat": 4,
 "nbformat_minor": 4
}
