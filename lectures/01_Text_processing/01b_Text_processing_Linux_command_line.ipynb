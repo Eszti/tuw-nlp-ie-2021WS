{
 "cells": [
  {
   "cell_type": "markdown",
   "metadata": {},
   "source": [
    "# Text processing on the Linux command line\n",
    "\n",
    "### Data-oriented Programming Paradigms,  2021 WS\n",
    "10/12/2021\n",
    "\n",
    "Gábor Recski"
   ]
  },
  {
   "cell_type": "markdown",
   "metadata": {},
   "source": [
    "In this notebook we learn how to perform simple text processing tasks by combining a set of tools available on __UNIX-like systems__ (such as Linux and Mac OS) using __pipes__."
   ]
  },
  {
   "cell_type": "markdown",
   "metadata": {},
   "source": [
    "For a very brief introduction to the Linux command line, including links to additional documentation, see this notebook:\n",
    "\n",
    "\n",
    "[Introduction to the Linux command line](https://github.com/tuw-nlp-ie/tuw-nlp-ie-2021WS/blob/main/lectures/01_Text_processing/01a_Intro_to_Linux_command_line.ipynb)"
   ]
  },
  {
   "cell_type": "markdown",
   "metadata": {},
   "source": [
    "To run the commands inside this notebook, you need to install the bash kernel for jupyter, e.g. like this:\n",
    "```\n",
    "pip install bash-kernel\n",
    "python -m bash_kernel.install\n",
    "```"
   ]
  },
  {
   "cell_type": "code",
   "execution_count": 2,
   "metadata": {},
   "outputs": [],
   "source": [
    "export LC_ALL=C"
   ]
  },
  {
   "cell_type": "markdown",
   "metadata": {},
   "source": [
    "The following steps are based on two files in the `data` folder, `alice_tok.txt` contains the **tokenized** version of the novel _Alice in Wonderland_ and `data/stopwords.txt` contains a list of English **stopwords**, words that express some grammatical function that we often want to ignore in text processing applications. Both files were created in [this notebook](https://github.com/tuw-nlp-ie/tuw-nlp-ie-2021WS/blob/main/lectures/01_Text_processing/01_Text_processing.ipynb) on the basics of text processsing.\n",
    "\n",
    "Let's have a look at the two files we are going to work with:"
   ]
  },
  {
   "cell_type": "code",
   "execution_count": 22,
   "metadata": {},
   "outputs": [
    {
     "name": "stdout",
     "output_type": "stream",
     "text": [
      "CHAPTER\n",
      "I\n",
      ".\n",
      "\n",
      "Down\n",
      "the\n",
      "Rabbit-Hole\n",
      "Alice\n",
      "was\n",
      "beginning\n",
      "to\n",
      "get\n",
      "very\n",
      "tired\n",
      "of\n",
      "sitting\n",
      "by\n",
      "her\n",
      "sister\n",
      "on\n",
      "the\n",
      "bank\n",
      ",\n",
      "and\n",
      "of\n",
      "having\n",
      "nothing\n",
      "to\n",
      "do\n",
      ":\n",
      "once\n",
      "or\n",
      "twice\n",
      "she\n",
      "had\n",
      "peeped\n",
      "into\n",
      "the\n",
      "book\n",
      "her\n",
      "sister\n",
      "was\n",
      "reading\n",
      ",\n",
      "but\n",
      "it\n",
      "had\n",
      "no\n",
      "pictures\n",
      "or\n"
     ]
    }
   ],
   "source": [
    "head -n 50 data/alice_tok.txt"
   ]
  },
  {
   "cell_type": "code",
   "execution_count": 4,
   "metadata": {},
   "outputs": [
    {
     "name": "stdout",
     "output_type": "stream",
     "text": [
      "a\n",
      "about\n",
      "above\n",
      "after\n",
      "again\n",
      "against\n",
      "ain\n",
      "all\n",
      "am\n",
      "an\n"
     ]
    }
   ],
   "source": [
    "head data/stopwords.txt"
   ]
  },
  {
   "cell_type": "markdown",
   "metadata": {},
   "source": [
    "`grep` is the command for matching regular expressions. Let's use it to find capitalized words."
   ]
  },
  {
   "cell_type": "markdown",
   "metadata": {},
   "source": [
    "The pipe symbol `|` means that the output of one command becomes the input of the next one:"
   ]
  },
  {
   "cell_type": "code",
   "execution_count": 6,
   "metadata": {},
   "outputs": [
    {
     "name": "stdout",
     "output_type": "stream",
     "text": [
      "Down\n",
      "Rabbit-Hole\n",
      "Alice\n",
      "Alice\n",
      "So\n",
      "White\n",
      "Rabbit\n",
      "There\n",
      "Alice\n",
      "Rabbit\n",
      "grep: write error: Broken pipe\n"
     ]
    }
   ],
   "source": [
    "grep -E '^[A-Z][a-z]+' data/alice_tok.txt | head"
   ]
  },
  {
   "cell_type": "markdown",
   "metadata": {},
   "source": [
    "_You can ignore the occasional `Broken pipe` errors, it just means that a command in the pipeline was still writing output when the next one was already finished_"
   ]
  },
  {
   "cell_type": "markdown",
   "metadata": {},
   "source": [
    "The `cat` command is often used at the beginning of a pipe, since all it does by default is send the contents of the file to the standard output"
   ]
  },
  {
   "cell_type": "code",
   "execution_count": 7,
   "metadata": {},
   "outputs": [
    {
     "name": "stdout",
     "output_type": "stream",
     "text": [
      "Down\n",
      "Rabbit-Hole\n",
      "Alice\n",
      "Alice\n",
      "So\n",
      "White\n",
      "Rabbit\n",
      "There\n",
      "Alice\n",
      "Rabbit\n",
      "grep: write error: Broken pipe\n"
     ]
    }
   ],
   "source": [
    "cat data/alice_tok.txt | grep -E '^[A-Z][a-z]+' | head"
   ]
  },
  {
   "cell_type": "markdown",
   "metadata": {},
   "source": [
    "Counting can be implemented as a combination of sorting and aggregation:"
   ]
  },
  {
   "cell_type": "code",
   "execution_count": 8,
   "metadata": {},
   "outputs": [
    {
     "name": "stdout",
     "output_type": "stream",
     "text": [
      "    397 Alice\n",
      "    108 The\n",
      "     74 Queen\n",
      "     67 And\n",
      "     64 It\n",
      "     61 King\n",
      "     57 Turtle\n",
      "     56 Mock\n",
      "     55 You\n",
      "     55 Hatter\n",
      "     55 Gryphon\n",
      "     44 Rabbit\n",
      "     43 What\n",
      "     42 Duchess\n",
      "     40 She\n",
      "     40 Dormouse\n",
      "     37 But\n",
      "     33 There\n",
      "     33 Oh\n",
      "     32 March\n"
     ]
    }
   ],
   "source": [
    "cat data/alice_tok.txt | grep -E '^[A-Z][a-z]+' | sort | uniq -c | sort -nr | head -20"
   ]
  },
  {
   "cell_type": "markdown",
   "metadata": {},
   "source": [
    "Let's save this for later. The `sed` command can be used for regex-based search-and-replace, here we use it to get a more convenient format. Then we sort the lines alphabetically, later we'll see why."
   ]
  },
  {
   "cell_type": "code",
   "execution_count": 9,
   "metadata": {},
   "outputs": [
    {
     "name": "stdout",
     "output_type": "stream",
     "text": [
      "Ada\t1\n",
      "Adventures\t2\n",
      "Advice\t1\n",
      "After\t6\n",
      "Ah\t5\n",
      "Ahem\t1\n",
      "Alas\t1\n",
      "Alice\t397\n",
      "All\t6\n",
      "Allow\t1\n"
     ]
    }
   ],
   "source": [
    "cat data/alice_tok.txt | grep -E '^[A-Z][a-z]+' | sort | uniq -c | sort -nr | sed 's/^ *\\([0-9]*\\) \\(.*\\)$/\\2\\t\\1/' | sort | head"
   ]
  },
  {
   "cell_type": "code",
   "execution_count": null,
   "metadata": {},
   "outputs": [],
   "source": [
    "cat data/alice_tok.txt | grep -E '^[A-Z][a-z]+' | sort | uniq -c | sort -nr | sed 's/^ *\\([0-9]*\\) \\(.*\\)$/\\2\\t\\1/' | sort > data/ent_freqs.txt"
   ]
  },
  {
   "cell_type": "markdown",
   "metadata": {},
   "source": [
    "Let's filter stopwords"
   ]
  },
  {
   "cell_type": "code",
   "execution_count": 10,
   "metadata": {},
   "outputs": [
    {
     "name": "stdout",
     "output_type": "stream",
     "text": [
      "Alice\n",
      "The\n",
      "Queen\n",
      "And\n",
      "It\n",
      "King\n",
      "Turtle\n",
      "Mock\n",
      "You\n",
      "Hatter\n"
     ]
    }
   ],
   "source": [
    "cat data/alice_tok.txt | grep -E '^[A-Z][a-z]+' | sort | uniq -c | sort -nr | head -50 | sed 's/^[ 0-9]*//' | head"
   ]
  },
  {
   "cell_type": "code",
   "execution_count": 14,
   "metadata": {},
   "outputs": [
    {
     "name": "stdout",
     "output_type": "stream",
     "text": [
      "alice\n",
      "bill\n",
      "cat\n",
      "caterpillar\n",
      "come\n",
      "dinah\n",
      "dodo\n",
      "dormouse\n",
      "duchess\n",
      "gryphon\n"
     ]
    }
   ],
   "source": [
    "cat data/alice_tok.txt | grep -E '^[A-Z][a-z]+' | sort | uniq -c | sort -nr | head -50 | sed 's/^[ 0-9]*//' | sort | tr [:upper:] [:lower:] | comm -13 data/stopwords.txt - | head"
   ]
  },
  {
   "cell_type": "markdown",
   "metadata": {},
   "source": [
    "Now let's find a way to get rid of the first words of sentences."
   ]
  },
  {
   "cell_type": "code",
   "execution_count": null,
   "metadata": {},
   "outputs": [],
   "source": [
    "cat data/alice_tok.txt | sed 's/^$/@/' | tr '\\n' ' ' | sed 's/ @ /\\n/g' | cut -d' ' -f2- | tr ' ' '\\n' | head"
   ]
  },
  {
   "cell_type": "code",
   "execution_count": null,
   "metadata": {},
   "outputs": [],
   "source": [
    "cat data/alice_tok.txt | sed 's/^$/@/' | tr '\\n' ' ' | sed 's/ @ /\\n/g' | cut -d' ' -f2- | tr ' ' '\\n' | grep -E '^[A-Z][a-z]+' | sort | uniq -c | sort -nr | head -50 | sed 's/^[ 0-9]*//' | sort | tr [:upper:] [:lower:] | comm -13 data/stopwords.txt - | head -30"
   ]
  },
  {
   "cell_type": "markdown",
   "metadata": {},
   "source": [
    "Now we can add the frequencies from the saved file"
   ]
  },
  {
   "cell_type": "code",
   "execution_count": 18,
   "metadata": {},
   "outputs": [
    {
     "name": "stdout",
     "output_type": "stream",
     "text": [
      "Alice 397\n",
      "Queen 74\n",
      "King 61\n",
      "Turtle 57\n",
      "Mock 56\n",
      "Hatter 55\n",
      "Gryphon 55\n",
      "Rabbit 44\n",
      "Duchess 42\n",
      "Dormouse 40\n",
      "Oh 33\n",
      "March 32\n",
      "Hare 31\n",
      "Mouse 30\n",
      "Caterpillar 27\n",
      "Cat 26\n",
      "Well 23\n",
      "White 22\n",
      "Come 20\n",
      "Dinah 14\n",
      "Bill 14\n",
      "Soup 13\n",
      "Dodo 13\n",
      "Yes 12\n",
      "Majesty 12\n",
      "Pigeon 11\n"
     ]
    }
   ],
   "source": [
    "cat data/alice_tok.txt | sed 's/^$/@/' | tr '\\n' ' ' | sed 's/ @ /\\n/g' | cut -d' ' -f2- | tr ' ' '\\n' | grep -E '^[A-Z][a-z]+' | sort | uniq -c | sort -nr | head -50 | sed 's/^[ 0-9]*//' | sort | tr [:upper:] [:lower:] | comm -13 data/stopwords.txt - | sed 's/^./\\u&/' | join - data/ent_freqs.txt | sort -k2 -nr"
   ]
  },
  {
   "cell_type": "code",
   "execution_count": 17,
   "metadata": {},
   "outputs": [
    {
     "name": "stdout",
     "output_type": "stream",
     "text": [
      "alice\n",
      "bill\n",
      "cat\n",
      "caterpillar\n",
      "come\n",
      "dinah\n",
      "dodo\n",
      "dormouse\n",
      "duchess\n",
      "gryphon\n",
      "hare\n",
      "hatter\n",
      "king\n",
      "majesty\n",
      "march\n",
      "mock\n",
      "mouse\n",
      "oh\n",
      "pigeon\n",
      "queen\n",
      "rabbit\n",
      "soup\n",
      "turtle\n",
      "well\n",
      "white\n",
      "yes\n"
     ]
    }
   ],
   "source": [
    "cat data/alice_tok.txt | sed 's/^$/@/' | tr '\\n' ' ' | sed 's/ @ /\\n/g' | cut -d' ' -f2- | tr ' ' '\\n' | grep -E '^[A-Z][a-z]+' | sort | uniq -c | sort -nr | head -50 | sed 's/^[ 0-9]*//' | sort | tr [:upper:] [:lower:] | comm -13 data/stopwords.txt - "
   ]
  },
  {
   "cell_type": "markdown",
   "metadata": {},
   "source": [
    "### Homework\n",
    "\n",
    "1. (25 points) Redo all steps of extracting a frequency count of entities, but using _Alice in Wonderland_ in another language. The German version is in `data/alice_de.txt`, but you can choose any other language for which you can find a plain text version online (try [Project Gutenberg](https://www.gutenberg.org/))! Start by adapting the preprocessing and segmentation steps in [this notebook](https://github.com/tuw-nlp-ie/tuw-nlp-ie-2021WS/blob/main/lectures/01_Text_processing/01_Text_processing.ipynb) to your chosen language and creating the two files used in this notebook (the tokenized text and the list of stopwords). Then check if the remaining steps also need modification.\n",
    "\n",
    "1. (75 points) Improve your solution to also include multi-word entities (above we didn't find the Mock Turtle or the March Hare!). There may be many different ways to do this."
   ]
  },
  {
   "cell_type": "markdown",
   "metadata": {},
   "source": [
    "### Submission instructions\n",
    "\n",
    "Submit your solution via TUWEL, by uploading 3 files:\n",
    "- The tokenized input text for your chosen language (e.g. `alice_de_tok.txt`)\n",
    "- The list of stopwords for your chosen language (e.g. `stopwords_de.txt`)\n",
    "- A file with the extension `.sh` containing your command(s) for exercises 1 and 2, with short explanations as comments (lines preceded by #).\n",
    "\n",
    "__IMPORTANT: Make sure that running your script (e.g. with the command `bash your_solution.sh`) requires only the two files you uploaded and produces the desired output!__"
   ]
  },
  {
   "cell_type": "markdown",
   "metadata": {},
   "source": [
    "The cell below shows how the solution in this notebook would have to be submitted:"
   ]
  },
  {
   "cell_type": "code",
   "execution_count": 19,
   "metadata": {},
   "outputs": [
    {
     "name": "stdout",
     "output_type": "stream",
     "text": [
      "Alice 397\n",
      "Queen 74\n",
      "King 61\n",
      "Turtle 57\n",
      "Mock 56\n",
      "Hatter 55\n",
      "Gryphon 55\n",
      "Rabbit 44\n",
      "Duchess 42\n",
      "Dormouse 40\n",
      "Oh 33\n",
      "March 32\n",
      "Hare 31\n",
      "Mouse 30\n",
      "Caterpillar 27\n",
      "Cat 26\n",
      "Well 23\n",
      "White 22\n",
      "Come 20\n",
      "Dinah 14\n",
      "Bill 14\n",
      "Soup 13\n",
      "Dodo 13\n",
      "Yes 12\n",
      "Majesty 12\n",
      "Pigeon 11\n"
     ]
    }
   ],
   "source": [
    "# extract capitalized words, count them, reformat, save to file: \n",
    "cat data/alice_tok.txt | grep -E '^[A-Z][a-z]+' | sort | uniq -c | sort -nr | sed 's/^ *\\([0-9]*\\) \\(.*\\)$/\\2\\t\\1/' | sort > data/ent_freqs.txt\n",
    "\n",
    "# reformat to get one sentence per line, keep all but the first words of sentences, reformat again to one word per line, extract capitalized words, count them, keep the top 50, and then only those that are not in the stopwords file, finally match the lines to the lines of the word frequency file and sort by frequency\n",
    "cat data/alice_tok.txt | sed 's/^$/@/' | tr '\\n' ' ' | sed 's/ @ /\\n/g' | cut -d' ' -f2- | tr ' ' '\\n' | grep -E '^[A-Z][a-z]+' | sort | uniq -c | sort -nr | head -50 | sed 's/^[ 0-9]*//' | sort | tr [:upper:] [:lower:] | comm -13 data/stopwords.txt - | sed 's/^./\\u&/' | join - data/ent_freqs.txt | sort -k2 -nr"
   ]
  }
 ],
 "metadata": {
  "kernelspec": {
   "display_name": "Bash",
   "language": "bash",
   "name": "bash"
  },
  "language_info": {
   "codemirror_mode": "shell",
   "file_extension": ".sh",
   "mimetype": "text/x-sh",
   "name": "bash"
  }
 },
 "nbformat": 4,
 "nbformat_minor": 4
}
