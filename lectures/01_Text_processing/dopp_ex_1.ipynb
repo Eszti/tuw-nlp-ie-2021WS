{
 "cells": [
  {
   "cell_type": "markdown",
   "id": "f898e971-9fae-4e5d-b8e5-2cefb5a5b6e5",
   "metadata": {},
   "source": [
    "# DOPP Ex 1"
   ]
  },
  {
   "cell_type": "markdown",
   "id": "ab17269d-c822-4544-9c80-8e7258beb962",
   "metadata": {},
   "source": [
    "## Import dependencies"
   ]
  },
  {
   "cell_type": "code",
   "execution_count": 15,
   "id": "17d8c361-f759-44b3-91cf-1ef9522ed15c",
   "metadata": {},
   "outputs": [
    {
     "name": "stderr",
     "output_type": "stream",
     "text": [
      "[nltk_data] Downloading package punkt to /home/eszter/nltk_data...\n",
      "[nltk_data]   Package punkt is already up-to-date!\n",
      "[nltk_data] Downloading package stopwords to /home/eszter/nltk_data...\n",
      "[nltk_data]   Package stopwords is already up-to-date!\n"
     ]
    },
    {
     "data": {
      "application/vnd.jupyter.widget-view+json": {
       "model_id": "8991b2fbb41c40ac917134554fc48577",
       "version_major": 2,
       "version_minor": 0
      },
      "text/plain": [
       "Downloading https://raw.githubusercontent.com/stanfordnlp/stanza-resources/main/resources_1.3.0.json:   0%|   …"
      ]
     },
     "metadata": {},
     "output_type": "display_data"
    },
    {
     "name": "stderr",
     "output_type": "stream",
     "text": [
      "2021-10-18 16:47:56 INFO: Downloading default packages for language: hu (Hungarian)...\n",
      "2021-10-18 16:47:57 INFO: File exists: /home/eszter/stanza_resources/hu/default.zip.\n",
      "2021-10-18 16:47:59 INFO: Finished downloading models and saved to /home/eszter/stanza_resources.\n"
     ]
    }
   ],
   "source": [
    "import re\n",
    "from collections import Counter\n",
    "\n",
    "import nltk\n",
    "nltk.download('punkt')\n",
    "nltk.download('stopwords')\n",
    "from nltk.tokenize import word_tokenize, sent_tokenize\n",
    "import stanza\n",
    "stanza.download('hu')"
   ]
  },
  {
   "cell_type": "code",
   "execution_count": 3,
   "id": "d2cea9eb-c833-4736-a974-a7092e1634b8",
   "metadata": {},
   "outputs": [
    {
     "name": "stdout",
     "output_type": "stream",
     "text": [
      "Első fejezet Lenn, a Nyuszi barlangjában Alice[1] Alice - ejtsd: elisz. már elunta, hogy tétlenül ül\n"
     ]
    }
   ],
   "source": [
    "text = open('data/alice_hu.txt').read()\n",
    "print(text[:100])"
   ]
  },
  {
   "cell_type": "code",
   "execution_count": 8,
   "id": "10da0e8b-da8e-470b-9df0-e6be2baea933",
   "metadata": {},
   "outputs": [
    {
     "data": {
      "text/plain": [
       "<re.Match object; span=(41, 46), match='Alice'>"
      ]
     },
     "execution_count": 8,
     "metadata": {},
     "output_type": "execute_result"
    }
   ],
   "source": [
    "re.search('Alice', text)"
   ]
  },
  {
   "cell_type": "code",
   "execution_count": 7,
   "id": "10cf2ade-6952-4680-933a-e61c59e81d8f",
   "metadata": {},
   "outputs": [
    {
     "data": {
      "text/plain": [
       "'Alice'"
      ]
     },
     "execution_count": 7,
     "metadata": {},
     "output_type": "execute_result"
    }
   ],
   "source": [
    "text[41:46]"
   ]
  },
  {
   "cell_type": "code",
   "execution_count": 11,
   "id": "6b79ecbd-5294-4a7c-9c4f-02e14fe84f52",
   "metadata": {},
   "outputs": [
    {
     "data": {
      "text/plain": [
       "['Nyuszi', 'Nyuszi', 'Nyuszi', 'Nyuszi', 'nyuszi', 'Nyuszi', 'Nyuszi']"
      ]
     },
     "execution_count": 11,
     "metadata": {},
     "output_type": "execute_result"
    }
   ],
   "source": [
    "re.findall('[Nn]yuszi', text[:5000])"
   ]
  },
  {
   "cell_type": "code",
   "execution_count": 13,
   "id": "0a0e52c4-7ad9-4beb-9a8c-1d2ac04c0cf2",
   "metadata": {},
   "outputs": [
    {
     "data": {
      "text/plain": [
       "['Első fejezet',\n",
       " 'Második fejezet',\n",
       " 'Harmadik fejezet',\n",
       " 'Negyedik fejezet',\n",
       " 'Hatodik fejezet',\n",
       " 'Hetedik fejezet',\n",
       " 'Nyolcadik fejezet',\n",
       " 'Kilencedik fejezet',\n",
       " 'Tizedik fejezet',\n",
       " 'Tizenegyedik fejezet',\n",
       " 'Tizenkettedik fejezet']"
      ]
     },
     "execution_count": 13,
     "metadata": {},
     "output_type": "execute_result"
    }
   ],
   "source": [
    "re.findall('[A-Z]\\w+ fejezet', text)"
   ]
  },
  {
   "cell_type": "markdown",
   "id": "c20188c2-1f77-4544-bc4d-f262a77fb844",
   "metadata": {},
   "source": [
    "## Tokenize"
   ]
  },
  {
   "cell_type": "code",
   "execution_count": 71,
   "id": "76099b27-59f7-4f7f-9ccf-fad96fe78254",
   "metadata": {},
   "outputs": [],
   "source": [
    "sens = nltk.sent_tokenize(text)"
   ]
  },
  {
   "cell_type": "code",
   "execution_count": 72,
   "id": "4d60db41-11a4-408c-b5fb-106c1eb70429",
   "metadata": {},
   "outputs": [
    {
     "data": {
      "text/plain": [
       "['Első fejezet Lenn, a Nyuszi barlangjában Alice[1] Alice - ejtsd: elisz.',\n",
       " 'már elunta, hogy tétlenül üldögéljen nénje mellett az árokparton.',\n",
       " 'Egyszer-egyszer bepislantott abba a könyvbe, amelyet a nénje olvasott, de nem voltak benne se képek, se versek.',\n",
       " 'Mit ér egy könyv - gondolta Alice - képek meg versek nélkül?',\n",
       " 'Hát csak ült-üldögélt, s azon törte a fejét, már amennyire tőle telt - mert a rekkenő hőségtől egészen elálmosodott és megbutult -, hogy jobb volna fölkelni pitypangot szedni és füzért fonni belőle, amikor hirtelenül elsurrant mellette a piros szemű fehér Nyuszi.',\n",
       " 'Ebben semmi különös nem volt.',\n",
       " 'Azon se csodálkozott Alice valami nagyon, hogy a Nyuszi ezt mondogatta magában: - Jaj, istenem, még elkésem!',\n",
       " 'Alice később, amikor visszagondolt erre, ráeszmélt, hogy ezen csodálkoznia kellett volna, de most bizony egy csöppet se csodálkozott.',\n",
       " 'Ám amikor a Nyuszi kihúzott egy órát a mellényzsebéből, és megnézte rajta, hogy hány óra, s aztán elrohant, Alice tüstént talpra ugrott.',\n",
       " 'Eszébe villant, hogy ő eddig még sohase látott olyan nyuszit, akinek mellényzsebe lett volna, se pedig olyant, aki órát húzott volna ki a mellényzsebéből, hát kíváncsiságában utána iramodott a réten.']"
      ]
     },
     "execution_count": 72,
     "metadata": {},
     "output_type": "execute_result"
    }
   ],
   "source": [
    "sens[:10]"
   ]
  },
  {
   "cell_type": "code",
   "execution_count": 75,
   "id": "21a088d2-12a3-43c9-be80-2e91e61b3e6d",
   "metadata": {},
   "outputs": [],
   "source": [
    "nltk_tokens = [nltk.word_tokenize(sen) for sen in sens]"
   ]
  },
  {
   "cell_type": "code",
   "execution_count": 77,
   "id": "9395357a-c7d5-4daa-9730-aa5a09953f2b",
   "metadata": {},
   "outputs": [
    {
     "data": {
      "text/plain": [
       "['Első',\n",
       " 'fejezet',\n",
       " 'Lenn',\n",
       " ',',\n",
       " 'a',\n",
       " 'Nyuszi',\n",
       " 'barlangjában',\n",
       " 'Alice',\n",
       " '[',\n",
       " '1',\n",
       " ']',\n",
       " 'Alice',\n",
       " '-',\n",
       " 'ejtsd',\n",
       " ':',\n",
       " 'elisz',\n",
       " '.']"
      ]
     },
     "execution_count": 77,
     "metadata": {},
     "output_type": "execute_result"
    }
   ],
   "source": [
    "nltk_tokens[0]"
   ]
  },
  {
   "cell_type": "code",
   "execution_count": 78,
   "id": "7f233bd2-544c-47ac-bf76-cb12ac2b8f82",
   "metadata": {},
   "outputs": [],
   "source": [
    "with open('dopp_ex1/alice_hu_tok.txt', 'w') as f:\n",
    "    f.write('\\n\\n'.join('\\n'.join(sen) for sen in nltk_tokens ) + '\\n')"
   ]
  },
  {
   "cell_type": "code",
   "execution_count": 41,
   "id": "0f210877-f906-4929-b554-c9014a0316ce",
   "metadata": {},
   "outputs": [
    {
     "data": {
      "text/plain": [
       "26094"
      ]
     },
     "execution_count": 41,
     "metadata": {},
     "output_type": "execute_result"
    }
   ],
   "source": [
    "len(nltk_tokens)"
   ]
  },
  {
   "cell_type": "code",
   "execution_count": 22,
   "id": "05446941-9e03-43d0-9aac-7915e8903fb1",
   "metadata": {},
   "outputs": [
    {
     "name": "stderr",
     "output_type": "stream",
     "text": [
      "2021-10-18 16:54:32 INFO: Loading these models for language: hu (Hungarian):\n",
      "=======================\n",
      "| Processor | Package |\n",
      "-----------------------\n",
      "| tokenize  | szeged  |\n",
      "=======================\n",
      "\n",
      "2021-10-18 16:54:32 INFO: Use device: cpu\n",
      "2021-10-18 16:54:32 INFO: Loading: tokenize\n",
      "2021-10-18 16:54:32 INFO: Done loading processors!\n"
     ]
    }
   ],
   "source": [
    "nlp_hu = stanza.Pipeline('hu', processors='tokenize')"
   ]
  },
  {
   "cell_type": "code",
   "execution_count": 54,
   "id": "6e6240a7-9667-4c8c-a325-d9577375aeef",
   "metadata": {},
   "outputs": [],
   "source": [
    "stanza_text = nlp_hu(text)"
   ]
  },
  {
   "cell_type": "code",
   "execution_count": 55,
   "id": "72378e6c-1c09-4aa8-998c-eefa96652050",
   "metadata": {},
   "outputs": [
    {
     "data": {
      "text/plain": [
       "26094"
      ]
     },
     "execution_count": 55,
     "metadata": {},
     "output_type": "execute_result"
    }
   ],
   "source": [
    "stanza_text.num_tokens"
   ]
  },
  {
   "cell_type": "code",
   "execution_count": 74,
   "id": "6f80b07e-f831-4f5e-a078-c7a295ff85b4",
   "metadata": {},
   "outputs": [],
   "source": [
    "stanza_tokens = []\n",
    "for sen in stanza_text.sentences:\n",
    "    for tok in sen.tokens:\n",
    "        stanza_tokens.append(tok.text)"
   ]
  },
  {
   "cell_type": "code",
   "execution_count": 60,
   "id": "2505160e-cc22-46c9-96aa-87fc619a2734",
   "metadata": {},
   "outputs": [
    {
     "data": {
      "text/plain": [
       "['Első',\n",
       " 'fejezet',\n",
       " 'Lenn',\n",
       " ',',\n",
       " 'a',\n",
       " 'Nyuszi',\n",
       " 'barlangjában',\n",
       " 'Alice[1]',\n",
       " 'Alice',\n",
       " '-']"
      ]
     },
     "execution_count": 60,
     "metadata": {},
     "output_type": "execute_result"
    }
   ],
   "source": [
    "stanza_tokens[:10]"
   ]
  },
  {
   "cell_type": "code",
   "execution_count": 59,
   "id": "ac2d5a2d-97b1-48eb-a1b2-326dc1e54cde",
   "metadata": {},
   "outputs": [],
   "source": [
    "with open('data/alice_hu_stanze_tok.txt', 'w') as f:\n",
    "    f.write('\\n'.join(tok for tok in stanza_tokens))"
   ]
  },
  {
   "cell_type": "markdown",
   "id": "7b88b028-7361-40d8-9771-835df3f4c421",
   "metadata": {},
   "source": [
    "## Stopwords"
   ]
  },
  {
   "cell_type": "code",
   "execution_count": 61,
   "id": "72d737cf-74de-426f-81fa-29479aefc794",
   "metadata": {},
   "outputs": [
    {
     "name": "stdout",
     "output_type": "stream",
     "text": [
      "{'azon', 'azért', 'most', 'mert', 'magát', 'egész', 'sokat', 'neki', 'úgy', 'mikor', 'kívül', 'ennek', 'cikkeket', 'nélkül', 'utána', 'nagy', 'között', 'már', 'be', 'mindent', 'sokkal', 'abban', 'és', 'szemben', 'hanem', 'mely', 'szerint', 'melyek', 'persze', 'viszont', 'ilyen', 'azután', 's', 'ekkor', 'mit', 'nem', 'tehát', 'voltak', 'vissza', 'ne', 'való', 'ezért', 'én', 'felé', 'eddig', 'amikor', 'elõször', 'teljes', 'újra', 'mintha', 'amelyek', 'amíg', 'volt', 'benne', 'továbbá', 'számára', 'itt', 'bár', 'ill.', 'cikkek', 'mindig', 'nagyobb', 'egyetlen', 'azok', 'ki', 'ilyenkor', 'még', 'e', 'közül', 'milyen', 'hogy', 'mivel', 'cikk', 'amelyet', 'ezek', 'egyik', 'más', 'lett', 'nagyon', 'majd', 'ahhoz', 'elég', 'ebben', 'semmi', 'vannak', 'át', 'mindenki', 'emilyen', 'egyre', 'õket', 'aki', 'rá', 'de', 'voltunk', 'erre', 'így', 'legalább', 'ellen', 'ehhez', 'jó', 'igen', 'több', 'egy', 'egyes', 'voltam', 'arra', 'lehetett', 'ott', 'ahol', 'által', 'újabb', 'volna', 'ezzel', 'jól', 'szinte', 'legyen', 'fel', 'mi', 'lehet', 'utolsó', 'valamint', 'hiszen', 'lenni', 'valaki', 'vele', 'amolyan', 'azonban', 'az', 'amit', 'lenne', 'ison', 'amely', 'ill', 'maga', 'ugyanis', 'meg', 'keressünk', 'pedig', 'új', 'õk', 'elsõ', 'nincs', 'mint', 'ezt', 'miért', 'õ', 'éppen', 'hogyan', 'olyan', 'valami', 'vagyis', 'néhány', 'saját', 'illetve', 'elõtt', 'vagy', 'tovább', 'amelynek', 'ahogy', 'alatt', 'azzal', 'kellett', 'el', 'sok', 'talán', 'amelyekben', 'míg', 'azt', 'minden', 'amelyeket', 'arról', 'akik', 'ami', 'sem', 'van', 'néha', 'belül', 'vagyok', 'egyéb', 'mellett', 'annak', 'ismét', 'kell', 'aztán', 'ezen', 'általában', 'keresztül', 'ez', 'lesz', 'a', 'után', 'össze', 'akkor', 'jobban', 'másik', 'csak', 'nekem', 'elõ'}\n"
     ]
    }
   ],
   "source": [
    "from nltk.corpus import stopwords\n",
    "stopwords = set(stopwords.words('hungarian'))\n",
    "print(stopwords)"
   ]
  },
  {
   "cell_type": "code",
   "execution_count": 62,
   "id": "e2521100-1321-4d08-a28e-610c3f2cdab4",
   "metadata": {},
   "outputs": [],
   "source": [
    "with open('dopp_ex1/stopwords_hu.txt', 'w') as f:\n",
    "    f.write('\\n'.join(sorted(stopwords)) + '\\n')"
   ]
  },
  {
   "cell_type": "code",
   "execution_count": 64,
   "id": "a551bfe1-24be-425c-9c79-79ab72a93548",
   "metadata": {},
   "outputs": [
    {
     "name": "stdout",
     "output_type": "stream",
     "text": [
      "['aber', 'alle', 'allem', 'allen', 'aller', 'alles', 'als', 'also', 'am', 'an', 'ander', 'andere', 'anderem', 'anderen', 'anderer', 'anderes', 'anderm', 'andern', 'anderr', 'anders', 'auch', 'auf', 'aus', 'bei', 'bin', 'bis', 'bist', 'da', 'damit', 'dann', 'das', 'dass', 'dasselbe', 'dazu', 'daß', 'dein', 'deine', 'deinem', 'deinen', 'deiner', 'deines', 'dem', 'demselben', 'den', 'denn', 'denselben', 'der', 'derer', 'derselbe', 'derselben', 'des', 'desselben', 'dessen', 'dich', 'die', 'dies', 'diese', 'dieselbe', 'dieselben', 'diesem', 'diesen', 'dieser', 'dieses', 'dir', 'doch', 'dort', 'du', 'durch', 'ein', 'eine', 'einem', 'einen', 'einer', 'eines', 'einig', 'einige', 'einigem', 'einigen', 'einiger', 'einiges', 'einmal', 'er', 'es', 'etwas', 'euch', 'euer', 'eure', 'eurem', 'euren', 'eurer', 'eures', 'für', 'gegen', 'gewesen', 'hab', 'habe', 'haben', 'hat', 'hatte', 'hatten', 'hier', 'hin', 'hinter', 'ich', 'ihm', 'ihn', 'ihnen', 'ihr', 'ihre', 'ihrem', 'ihren', 'ihrer', 'ihres', 'im', 'in', 'indem', 'ins', 'ist', 'jede', 'jedem', 'jeden', 'jeder', 'jedes', 'jene', 'jenem', 'jenen', 'jener', 'jenes', 'jetzt', 'kann', 'kein', 'keine', 'keinem', 'keinen', 'keiner', 'keines', 'können', 'könnte', 'machen', 'man', 'manche', 'manchem', 'manchen', 'mancher', 'manches', 'mein', 'meine', 'meinem', 'meinen', 'meiner', 'meines', 'mich', 'mir', 'mit', 'muss', 'musste', 'nach', 'nicht', 'nichts', 'noch', 'nun', 'nur', 'ob', 'oder', 'ohne', 'sehr', 'sein', 'seine', 'seinem', 'seinen', 'seiner', 'seines', 'selbst', 'sich', 'sie', 'sind', 'so', 'solche', 'solchem', 'solchen', 'solcher', 'solches', 'soll', 'sollte', 'sondern', 'sonst', 'um', 'und', 'uns', 'unser', 'unsere', 'unserem', 'unseren', 'unseres', 'unter', 'viel', 'vom', 'von', 'vor', 'war', 'waren', 'warst', 'was', 'weg', 'weil', 'weiter', 'welche', 'welchem', 'welchen', 'welcher', 'welches', 'wenn', 'werde', 'werden', 'wie', 'wieder', 'will', 'wir', 'wird', 'wirst', 'wo', 'wollen', 'wollte', 'während', 'würde', 'würden', 'zu', 'zum', 'zur', 'zwar', 'zwischen', 'über']\n"
     ]
    }
   ],
   "source": [
    "from nltk.corpus import stopwords\n",
    "stopwords = set(stopwords.words('german'))\n",
    "print(sorted(stopwords))"
   ]
  }
 ],
 "metadata": {
  "kernelspec": {
   "display_name": "Python 3 (ipykernel)",
   "language": "python",
   "name": "python3"
  },
  "language_info": {
   "codemirror_mode": {
    "name": "ipython",
    "version": 3
   },
   "file_extension": ".py",
   "mimetype": "text/x-python",
   "name": "python",
   "nbconvert_exporter": "python",
   "pygments_lexer": "ipython3",
   "version": "3.9.6"
  }
 },
 "nbformat": 4,
 "nbformat_minor": 5
}
